{
 "cells": [
  {
   "cell_type": "markdown",
   "id": "57a38ea0-13f6-4c3f-847c-220bc5cf1eb8",
   "metadata": {},
   "source": [
    "# Employee work life analysis"
   ]
  },
  {
   "cell_type": "markdown",
   "id": "563ba4fd-9c6b-4a0e-b623-6dbc6faf3fbe",
   "metadata": {},
   "source": [
    "## Introduction\r\n",
    "In the pursuit of understanding the intricacies of a company's culture and the experiences of its employees, the extraction and summarization of work-life anecdotes emerge as a valuable undertaking. In this phase of the project, we delve into the narratives of individuals who have been part of various organizations, gathering insights that encapsulate the essence of their professional journeys. To accomplish this, we employ a combination of web scraping, data extraction, and text summarization techniques, augmented by popular libraries and methodologies in the realm of Natural Language Processing (NLP). By employing these methods, we aim to provide concise and insightful summaries of employees' experiences, enabling a deeper comprehension of the working environments, challenges, and successes that define a company's culture."
   ]
  },
  {
   "cell_type": "markdown",
   "id": "98e38b4e-a881-4047-a8bc-3462a9bb69d7",
   "metadata": {},
   "source": [
    "## Web Scraping Quora blog posts"
   ]
  },
  {
   "cell_type": "markdown",
   "id": "00c127a5-2cfe-4f5c-b525-71adfdd52f37",
   "metadata": {},
   "source": [
    "### Input the company name"
   ]
  },
  {
   "cell_type": "code",
   "execution_count": 4,
   "id": "e0d1cf0f-f00a-4e54-8cf3-52d00f9ba218",
   "metadata": {},
   "outputs": [
    {
     "name": "stdin",
     "output_type": "stream",
     "text": [
      "Which company's employee experiences do you want to know about? google\n"
     ]
    }
   ],
   "source": [
    "company = input(\"Which company's employee experiences do you want to know about?\")"
   ]
  },
  {
   "cell_type": "code",
   "execution_count": 5,
   "id": "7aaa2b99-86c9-4120-8e6c-bb42b74c48cb",
   "metadata": {},
   "outputs": [
    {
     "name": "stdout",
     "output_type": "stream",
     "text": [
      "Found a matching div element:\n",
      "I have never worked anywhere apart from Google, so I cannot draw a comparison but here is what I think. Pros :I get to work with a set of people who always make me feel shit about myself and make me realize that I know very little. When I joined Google, I suffered from Imposter’s syndrome. I am always out of my comfort zone here. I always know how I can improve. It helps me grow and learn faster.The degree of freedom I have regarding what I want to work on is spectacular. Changing project / team is relatively easier here. I can choose to spend 20% of my time on anything I want.The food and other much talked about perks of Google actually help me improve my productivity. I feel like my employer cares about me and I would like to return the favor. There is even an internal website for employees that talk about how to waste time at Google in a good way.The company invests in growth of it’s employees. There are tons of learning resources. People volunteer to mentor others. I have un-restricted access to most of the code ever written at Google. There are several voluntary trainings and tech-talks. The bottleneck to my learning here is myself.The being “Googley” culture is amazing. Most people I have worked with at Google have high ethical and moral standards. There is a system of continuous feedback. People here are not trying to pull you down. People often get rewarded and recognized via peer-bonuses and public thank yo.There are sufficient number of channels to bubble up my ideas and concerns. There are appropriate mailing list for almost everything from game of thrones to micro-aggressions.Cons :The company is way too big. Re-orgs keep happening. And personal connections aren’t of much use here. What doesn’t get documented never happened here.With every passing day, I feel like Google is becoming less desirable place to work. Perks at many other companies have caught up with those at Google. *Exclusive Google perks* are a thing of past. Things like anti-diversity memo makes me sad.To work on good things, you need to be good and to improve yourself you need to work on good things. That’s a deadlock I often face at Google. There is no easy way around. It’s hard to convince people here that you can get something done mostly because everyone is so damn smart.A large part of knowledge and experience gained at Google is not transferable. There is always an internal (and in most cases better) version of most popular technologies available. I hardly ever use any tool / technology that has not been invented at Google. If I ever go out of Google, I will probably have to learn a lot of standard tools popular outside Google.On his 10th work anniversary, my manager at Google was asked how did he feel about his 10 years. He said something similar to : “If you wake up one morning and don’t feel like going to work it’s okay. However, I would be worried if that happens often. For the past 10 years, everyday when I wake up in the morning, I have a new challenge waiting for me. I always feel excited about coming to work. I never feel like like not going to work” I think, that is what drives a lot of people at Google, including myself.\n",
      "---\n",
      "Found a matching div element:\n",
      "I've worked at Google as both a contractor and a full-time employee. What it's like should be divided into two categories: official policies, and your actual perception. The latter depends a lot on your team; in mine, all but the PM are contractors, so there's no discrimination or anything. Here are Google's official policies regarding contractors:Your badge is red and has a 'C' on itYou're specifically instructed to NOT say on your social media profiles that you work for Google. You work for <company xyz> AT Google. This may confuse some folks and has less of the ring of \"I work at Google\".Some rare areas of the Googleplex may not be open to contractors. Not sure which. Haven't seen anything restricted yet that I wanted to check out.No access to the corporate wiki, which tends to have old stuff anyway. New stuff goes on Google Sites. You can also request access to the corp wiki if you need information stored there, which is easy to justify as various programming guidelines/styles are on it.You have to pay a nominal fee ($1.50) to be able to use shuttles, so the IRS doesn't consider them employee benefits. But other than that, cafeterias, snacks, gyms, showers etc. are free to allYou have to fill in a timesheet for your employer. This is mostly a formality.Hardware is second tier for contractors. E.g. used/refurbished laptop, previous gen. desktopsYou also get only one desktop OR laptop as a contractor. Employees easily get both. However, if your manager and their director approve your request for an extra machine, you're good. Without a corporate laptop, you can't access the internal network unless you're on Google's campus Wi-Fi, which surprisingly doesn't include the one in shuttles.You can't officially use many educational opportunities (\"Grow\"), e.g. instructor classes. Presumably if you show up to audit something, you won't be kicked out though.+ some related tools, like FreshLens (giving feedback as an outsider to Google Products, when you're new to Google), are limited to employeesShouldn't bring in guests. Employees can, and delight the guests with Google's free food.Some special occasion perks (I imagine most) are limited to employees. One example was the BMW Drive Now program, which has a membership special for Googlers.A bunch of events are for employees only. Others are specifically open to contractors (e.g. Movie nights). Others don't specify, and probably nobody will mind (e.g. speakers or fitness instructors of all sorts).However, you still have access to on-site facilities (cafeterias, gyms, mail, laundry, bike repair or whatnot). Anyway, as a contractor, you're probably (hopefully) well-paid, so do your job and stop looking for stuff to mooch :) One odd pro about working as a contract is that you don’t have to go through the performance review cycle. Some have complained that this perf process has caused some perverse incentives at Google: teams or employees launch new products mainly to get promoted, or people who deserve promotions don’t get them for unclear reasons. Another one is that you probably will be able to focus on one thing and do that well. Some other roles have to deal with a variety of technologies and they end up knowing a bit about a lot, but lack deep expertise on any topic. Overall, I haven't had problems as a contractor (save for a snag re. requesting a laptop). Tickets that I filed were generally treated as seriously as I expected those submitted by an employees would be. Note that I was contracting through E-Touch, a staffing agency. I don’t know what it’s like to contract as yourself.\n",
      "---\n",
      "Found a matching div element:\n",
      "Google's Tokyo office was the first international office. It's where creative, passionate people come together and is one of the best place to work in Japan. It's located in Roppongi Hills Mori Tower (Tokyo’s fifth-tallest building, and home to the Mori Art Museum). It has got a table tennis, a pool table, a music room, an espresso bar, and many more things.To get the feel of traditional ryokan, the office also features the classic Japanese design. You can see Mt. Fuji and feel relaxed while enjoying your work. You can enjoy local specialties like curries, noodle dishes and sashimi (it’s Sushi Friday every Friday!) and food from around the world. There is even a special tatami-style seating where you have to take off your shoes to eat. Engineers here work on Search, Ads, Maps, Chrome, Google+ and Android and the products that make huge impacts in Japan and also benefit millions of users around the world.Source: Tokyo - Google Careers It was Google Tokyo that built the person finder app in 2 hours after the earthquake and the tsunami of 2011 which helped people to locate people and also find data on which routes are working and operational in real time. You would get to see lot of awesome events. Celebrities like Ryuichi Sakamoto and the J-pop group AKB48 have already performed here. Googlers here also get to go on really cool off-sites with their teams – everything from horseback, riding to annual ski trip. You can also see a lot of hackathon taking place here. In short, it's perfect environment for growth and fun and create an impact with the skills you have.\n",
      "---\n",
      "Found a matching div element:\n",
      "EDIT: Please do not PM me about how to get a job at Google. There are a ton of brilliant Quora answers out there which will be able to guide you much better. Thank you. Disclaimers:1. All views listed are my own. Google doesn't endorse them. It may or may not be applicable to other Indian Googlers. Most points are based on my perception. Some one else may have perceived things differently. Let’s agree to disagree :) 2. I worked in Hyderabad office. So some of the answers might be more applicable to Google Hyderabad vs Google Bangalore or say Mumbai. I have not worked in all the organisations at Google India. Most of them may be more applicable to my organisation than others. 3. I am no longer employed with Google. I left to pursue higher education. What is it like to work at Google India? Let me share some of my experiences in form of short stories/snippets. I have divided the answer into 2 sections - Exceeds expectations (thing that Google India does really really well) and Needs Improvement (things that can be made better). EXCEEDS EXPECTATIONS a. PERKSOne fine Monday morning, I had a single ten rupee note in my wallet. I checked my wallet again on Friday evening and it still had that single ten rupee note in it. At Google I don't spend a dime during weekdays. I reach office in an office provided cab, eat at the free Google cafes, have snacks and dinner at the office itself and then reach home in one of the office cabs.One of my favorite perks of working at Google India was sleeping in the office cabs on my way to home after a hectic day at work. Also, the cab service is only offered in India. In US, Google provides a shuttle service but the cab service doesn’t exist in any other country (to the best of my knowledge).Talking about wallets, the security is pretty great. You can leave your wallet, watch, laptop etc. anywhere in the office and can expect to find it back in the same place the next day or with security. In my 2 years at Google, I never heard of anyone’s stuff getting stolen.Most roles allow for some overseas travel opportunities. I went on a business trip to Europe. I followed all the guidelines for daily allowances (which is pretty generous) and wasn't asked a single question about it. I had drinks when I wanted to and had all kinds of exotic food on the company's card. Some Companies are cost driven where as Google is Value driven. (The cost of asking for business justification for each & every bill is more expensive than letting the employee do some productive work in that time. See point no. 4 under culture)Google offers a generous dental and vision insurance on top of health insurance. I underwent LASIK surgery and it was covered by Google’s vision insurance completely. Generally LASIK is considered as a cosmetic surgery and is not covered in most insurances.I know a couple of Indian Googlers who will never leave Google just for the amazing health insurance that it provides to some of their family members who need permanent medical attention.During employment, if you undertake any professional course that is related to your job, then Google reimburses 2/3 of the total cost. In case of personal development, Google reimburses 1/3 of the cost. Guitar lessons, Dancing lessons, learning a new language etc. come under the purview of personal reimbursement. I have used personal reimbursement couple of times and it was a smooth process. (Upload the bills and fill a small form and done)Much has been said about Google’s food over the inter webs. I don’t have anything new to add to it, but you realise the importance of it during the weekends when you have to get your own food. (I am a bachelor who lives alone and doesn’t like to cook)Other perks that I have enjoyed during my tenure in Google India - On site Gym, playing table tennis, pool, xbox, foosball, concierge service which takes care of all your daily errands like dispatching a courier, paying bills etc. (not free but nominal), laundry service (not free), mail room where you can order all your Amazon and Flipkart goodies :D. Also, there is an in house coffee shop(free), library in the office, culture club, theatre club, football club, cricket club,basketball club (in Hyderabad at least).Google tries it best to care for you. They celebrate every employee’s work anniversary by decorating their work desk and offering them some massage points which in India translates to 60 minutes of free massage.This is how my desk looked like on my 2nd work anniversary. If it makes any difference, I was on my notice period on this day.9. Free Goodies. Team has extra budget? Great, let’s order some goodies. Organisation has some cash leftover from the annual budget? Great. Let’s order some goodies. I have received Google t-shirts (5–6) , couple of hoodies,external hard disk, wireless speakers, headphones, backpacks, selfie stick, neck pillow, keychains, pen drives, coffee mugs etc. in just 2 years. The amount of money Google spends on each employee is staggering. A lot of other companies would pat themselves in the back for saving some money from a party budget and carry it over to the next year. Not Google :) Talking about goodies, the grand daddy of them all - the annual Christmas gift awarded to each employee. I received a Nexus 5X last Christmas and an Android One phone the year before on Diwali. b. CULTUREGoogle allows you to be yourself. They don’t have a one screw fits all bolts policy. Come at what time you want & leave when you want to. There is no concept of attendance or normal office hours. One of my colleagues who got an exceptional rating last cycle had the habit of coming to office at 3 pm. (In his defense, he did work till 12 in the night.)You can wear whatever you want to. No dress code bullshit. You are not judged on how well your shirt is pressed.One of the unsaid rules of working at Google is - Be Nice and Be Respectful. People hold doors for you. You will hold doors for people. Expect to hear the word “Thanks” (or some variant) every other sentence.Elimination of bureaucratic bullshit. Google tries its best to eliminate hassles for its employees. There are proper channels for everything. Have a question about your latest payslip? Mail an email alias and get your concern addressed in 24 hours or less. Need to get some expenses reimbursed? Go to an internal portal and fill out a form and done. You don’t have to jump through the hoops to get things done. This is true for pretty much everything.There is an internal memes site ( check out Eric Schmidt’s book for more details) where you can criticise the CEO, senior VPs, management etc. without any repercussions. You can voice your disagreement and it is OK!. You can respectfully agree to disagree. Also, Googlers are the first to be up in arms against any decision taken by the company which may not be in the user’s best interests. ( Integrating G+ with Youtube was an unpopular decision internally and people weren’t shy when it came to expressing their disagreement)Google India celebrates multiple festivals every year by decorating the office and preparing special food on those days. It also has Bring your children to work multiple times a year where they install make shift slides & play houses in the office for children. Also, there are multiple initiatives organised by Googlers and for Googlers to give something back to society.c. WORK Your work will largely depend on which organisation you join and on your skill sets.Annual increments every year are quite generous. The only time people bitch about their increments is when they compare it against their neighbor. “I only got 20% while so and so got 30% last year blah blah”. Obviously, increments are dependent on your current base salary and your appraisals.You can say NO to projects. If the project doesn’t interest you, then you can decline to take it up. Obviously you need to convince your manager. Most managers will agree to not give you some project which you don’t want to undertake.Google has a pretty good internal mobility program. But the competition is very immense.( See point no.1 in Needs Improvement section)Needs ImprovementOne of my colleagues used to jokingly say that Google hires Ph.Ds to work as janitors. This is true to a large extent. Google hires CEOs to work as mid level managers. Most of the people who work at Google (and in India too) are way over-qualified for their jobs. If Google India wants to hire someone to write an email, they will go and hire a topper from DU. If they want to hire someone who can provide call support to users, they will go and hire an English hons. topper from DU (Do remember that you need some 99% in your boards to just clear DU’s cut off) . There are Ph.Ds at Google from IVY league colleges who just move data from one database to the other. You can see the pattern. This leads to immense competition.Most of the interesting roles are in Mountain View. The Engineering division in Hyderabad and Bangalore work on Google Apps for Work. It is a small team. I am not sure about the exact numbers but it is definitely less 1% of the total engineering workforce at Google. The two largest organisations at Google India are the sales org and the anti-abuse wing of Google which take down offensive content. If you come to work at Google India don’t expect to work on some cutting edge product like Driverless cars, Brain or Loon. Expect to work on something boring.Google India offers very limited scope for career growth. You obviously can’t become the CEO/SVP/VP working from India when more than 80% of your workforce is based out of Mountain View. The roles in India are very limited too since only a handful organisations are based out of India. Sooner than later, anyone, who has some iota of ambition and are not constrained by family, move to Mountain View. (The internal mobility is pretty great by the way minus the tons of competition for good roles. See point no. 1)Google runs a lot of programs to train its management and provides a lot of support to its employees to keep them stress free and remove all politics from the workplace. However, Google is a system run by people and at the end of the day people are flawed. Some politics does creep into the picture. It might be comparatively less than many other places but it does exist.Promotions in the non-tech organisations are very messy. It comes down to how much your manager is willing to push for your case. So, if you don’t have the best of relationships with your manager or your manager doesn’t like your face then find a new manager ASAP. If your manager is someone who backs down easily then say bye-bye to your promotion. I knew a guy on the floor who would stand behind his reportees like a wall (the noun, not Rahul Dravid). Multiple reportees in his team got promoted each cycle. Same cannot be said about the manager who had the reputation of backing down easily. It is not like there weren’t any hard-working or deserving candidates in the latter’s team. The scene is significantly different and less messy for tech ladders.Talking about Promotions, the lack of transparency around the committee who sits down to evaluate your candidature for promotion can be unnerving. Google allows you to be yourself & disagree with the decisions of the upper management. But at the back of your mind, you are always scared of what you say because you never know at what stage it may come to bite you in your backside. Almost any senior person on the floor can get you screwed out of your promotion. You absolutely cannot afford to piss off anyone who sits in one of those promo committees. What if the senior manager whose XYZ decision you disagreed with says he is not happy with your work in one of those closed committee meetings. If your immediate manager doesn’t fight tooth and nail for you, your promotion is gone. This point is specially true for Google India. I don’t think Google India managers are good at taking criticisms from their reportees. Almost all the questions asked during town hall meetings are anonymous. If the management doesn’t allow anonymous questions for some town hall, no questions are asked in that town hall. There is a lot of mistrust between management and non-management.This needs to be FIXED ASAP.Google India takes an awfully long time to weed out bad managers. Managers with bad approval ratings are given multiple chances to become better at their job. It can take anywhere from 3 years to Never for Google to identify a bad manager and ask them to either become an individual contributor or find another role somewhere else. Problem with this is the following : A bad individual contributor screws up a project. A bad manager screws up the career of their multiple reportees, multiple projects, the entire team and relationship with stakeholders.That being said, Google does put in some checks through the internal culture & escalation mediums that ensures that your manager will show consideration for you as a human being (unlike the notorious Indian IT industry where you are addressed as a ‘resource’ and not a human being). However, some people are simply not cut out for people management. I don’t blame Google for any of this. I simply hope they get better at filtering out such candidates early on and removing them sooner. They should also change the annual Manager feedback survey to bi-annual and make it more actionable & hold the manager responsible. Currently, the manager feedback survey is useless and is only used for the manager to self-introspect. So, if a particular manager thinks along the lines of ‘Hey. I am a good manager. All of these people reporting under me who have given me an approval of only 30% are idiots. I don’t care about this survey’ then the survey becomes entirely meaningless. There is no accountability for a manger with a bad survey rating.This might be slightly controversial but - Google doesn’t fire anyone for low performance. How is this a con? Let me explain. Amazon has a policy of firing 10% of its staff every year after stack ranking them. Google rarely fires anyone for low performance. At best after multiple bad reviews, they are asked to find a new team or job and are given enough time to do so. Both Google and Amazon in my opinion are at the two extreme ends of the spectrum. One leads to slack while the other leads to stress over fear of losing your job. I think a middle path is a more suitable approach. My 2 cents. That being said, Google does provide incentives for you to work hard. Hard work leads to good ratings which leads to better pay, more equity, better & faster career growth. However, you will occasionally find some people who are content with putting in their absolute minimum at the job and are simply happy with their take home salary and flying under the radar of the management.Google India is notorious at hiring people at the wrong level. I know so many people who were hired one level below than they should have been. If you are offered a job at Google India, then definitely try to reach out to an existing Indian Googler and evaluate which level is suitable for your profile and try to negotiate with your recruiter. Also, don’t let them push you around. Some recruiters think they have the birthright to hire you at the wrong level for a low salary because they are offering you a chance to work at Google.Again, this point is applicable only for non-tech ladders. Google uses internal tools for everything. You will learn a lot of skills during your job but most of them won’t translate to something that you can re-use in the industry. You will have to rely on your soft skills to get your next job.Open Work space: The floor can be very noisy at times (specially post 5 pm) and sometimes it can be impossible to work without your headphones on. For whatever reasons beyond my comprehension, a few folks used to take meetings from their desks and take 30 min+ personal calls sitting on their desk, happily oblivious of the amount of noise & annoyance they are causing to everyone in the bay. You either need to put on headphones or go up to them and request them to move somewhere else. Most often than not, it is you who will either put on the headphones or move somewhere else because you don’t want to appear rude.The amount of freebies & other perks can sometimes make you entitled. Some become more entitled than others. Some bad apples do treat the temporary employees (TVCs) with disrespect. Some engineering guys do look down on non-engineering guys. (Please notice the word - some. Some doesn’t mean all)Your work doesn’t speak for you. You need to spend a lot of time to market your work. This includes sending emails, reaching out to upper management during their office hours and very subtly praise yourself and your work, speaking out during meetings and again talking about your work and so on. This can be difficult for introverts and for people who are uncomfortable with boasting about their work.Related to Promotions - The amount of work put by you is completely meaningless. To get promoted, you need to deliver on projects and show impact. If the management keeps flip flopping on the scope of the project or you are collaborating with someone who doesn’t care, then either you need to Superman up and deliver the project end to end all by yourself or forget about your promotion. Also, even if you successfully execute a very complex project but for whatever reason, the metrics gods aren’t favorable to you and the impact numbers don’t look good, then it won’t do you much good. On the other hand, it is quite possible for someone to land a super easy project and gain a lot of brownie points by showing some good numbers thanks to business requirements of that particular product.The Microsoft Problem. Google India, like Google is expanding at a fast rate. This means more competition and lesser budgets for everything. The budgets for parties, gifts, events, off sites have decreased over the years. Don’t get me wrong, the perks and budgets are still very high, but every time the number of coffee machines on the floor get reduced or your favorite expensive candy in the micro kitchen go missing or the size of the packets of cookies in micro kitchen go from large to small, a lot of old timers start speculating about the upcoming apocalypse. (Apocalypse here being end of perks and culture as we know it)Throw Nooglers in the ocean and let them either learn to swim or drown completely (metaphorical). This is more of a Google culture and less of a Google India culture. As a new joinee, and after a couple of short meetings explaining the role of your team, you are expected to fly on your own. You are given a span of 3- 6 months to ramp up and learn things on your own. If you run into a problem, you are expected to reach out to someone and seek help. No body will come and ask you if you need help. I am not sure why I am including this in the needs improvement section. Google hires self-starters & ambitious people who like to get things done. However, in the beginning this can be very intimidating and you are expected to struggle a lot. Even basic things at Google from getting the right accesses and getting added to the correct groups to submitting a simple change in the codebase will require you to read some internal documentation or ask someone for help.Bottom line : You will come to work for Google India for the brand and leave to pursue better quality work elsewhere (either to Mountain View or to another company). Google India is a very good employer and treats you well but once the honeymoon period is over, it is the quality of work which will keep you satisfied (or dissatisfied) at the work place and no amount of free chocolates or other freebies will be able to compensate for it. So choose your role wisely and don’t expect flying unicorns or something. Do keep in mind that all the free stuff will cease to excite you..just like your cell phone isn’t exciting anymore and just like your last car or clothes stopped pleasing you after a couple of days/weeks. If you liked my answer, you can follow me on Twitter\n",
      "---\n",
      "Found a matching div element:\n",
      "I’m writing anonymously because I used to work at Google as a software engineer and it’s possible I end up working there again some day. I left Google a few years ago and I work at another major tech company now. There were indeed a lot of good things about working there. But it wasn’t as perfect as some people seem to expect. Here are some negatives:Software engineers are treated as equivalent by the interviewing system, which requires everyone to be judged on the same sort of standard engineering interview questions. I had a Ph.D. but my specialized knowledge was irrelevant to the hiring process; I got the same interviews that a student fresh out of undergrad would have. The problem here is that it devalues those with specialized knowledge that might actually benefit the company.Ph.D. researchers are usually hired as “software engineers”. I actually worked in Google Research for a time (now re-branded as Google AI) but still only got the “engineer” title. This was a negative and I think impacted my career negatively, both at Google and in my later job search.The promotion system penalizes work on innovative projects, and rewards those who churn out incremental small features to existing products. As a Ph.D. with a research background, I was routinely asked to do build prototypes of new ideas or work on new products that weren’t public. I did a great job at this, but despite great performance reviews (“strongly exceeds expectations”, which I got for a couple years in a row) I was unable to get promoted by the anonymous promotion committee. This committee is made up of people who don’t know your work and can only read about what you did from a write you and your manager and peers make. This is supposed to reduce bias. But in my case I had peers and a manager and other more senior people who vouched for me and supported my promotion, and still the committee rejected it. The reason was simply that I didn’t have enough “impact” since the projects were internal and hadn’t launched to the public yet. As an “L4 employee” — one step below “senior” — the official job description for Senior (L5) stated that having impact on the group’s work and delivering the assigned projects was good enough for promotion, and that impact on “end users” wasn’t required. Indeed, I delivered the requested work; the only reason it didn’t have “end user impact” was that much higher-level managers would change strategy and cancel projects I had worked on. Meanwhile… I was getting denied promotion, but there were other people getting promoted for adding in crappy little features to Google Plus, like forcing YouTube commenters to have a Google Plus account. Later, similar people were getting promoted for work on *removing* Google Plus integration once they cancelled it. I was only not promoted since my project got cancelled just before it launched; other people launching stupid things were rewarded for it. This promotion policy, incidentally, is probably one of the reasons Google has so many weird similar products (like 3 different chat apps) and why they’re also removing support for projects all the time.Google sometimes makes “lowball” salary offers. I quit Google for a much better position at a higher level and higher pay elsewhere. But later I re-applied to Google and got an offer for L5 — in essence, a promotion by leaving and re-interviewing. Previous managers were enthusiastic and I found a new team that needed my specialized knowledge. However, after going through the interview process, I was given an offer to return at the higher lever — but I’d only be making the same $$ that I made prior to leaving! It was much less than my then-current compensation at a Google competitor. I told the recruiter that I’d only come back for a reasonable L5 salary, and I named a number. He said that Google’s policy was that they wouldn’t change the offer unless I had a competing offer from a competitor. I told them that “I’m working for your competitor right now! If you want me to switch jobs you need to pay for my talent, and I’m making a lot more than your offer.” He communicated that to the “compensation” folks but they reiterated that they would only give me a higher (read “market-rate”) if I had yet another competing offer. I didn’t, so I declined. No harm done except for a great waste of time on both sides.Google has changed their stock-”refresh” policy so that you can’t get an additional stock grant in the same year you join. I was interviewing to return to Google in January. So on top of the low-ball offer, I would miss an entire round of stock grants, putting my compensation a year “behind” someone who started just prior on Dec 31. No thanks. Basically, Google is screwing over — on average — people who start before July 1 in any given year. If I return to Google I’ll make sure to time it right.Google has some good engineering systems, but also some really clunky and annoying ones. A lot open source software stacks are much easier to work with. For instance, making a service that simply stays running in other datacenters when a datacenter goes down for maintenance is way harder than it should be. And I had to code in vim since there wasn’t good support for IDEs.Free food: sort of nice, but also easier to overeat and gain weight. Trust me, it’s not a perk for some of us; for me this was a negative, as strange as that may sound.The Bay Area is too darn expensive. I didn’t want to get promoted just to have more responsibility — instead I wanted to get promoted in order to be able to live without roommates in a not-too-terrible apartment. Any maybe one day, if I got promoted a 2nd time, I would have been able to buy my own condo. Living near work in your own house? Forget it. House prices plus insane California tax rates make it hard to get ahead, even for a Ph.D. software engineer at Google with expertise in machine learning. There are houses around the area with 4–8 people living together like college roommates where everyone is a highly-educated Google etc. employee. For me: it was time to grow up and claim a normal middle-class life elsewhere. In my case I actually moved to a cheaper city AND got a huge increase in compensation, since Google had artificially denied my promotion attempts and didn’t value my Ph.D. knowledge and domain experience the way other companies do.At this point I would consider returning to Google if I were offered a job at the L6 level, outside the Bay Area, and at the market-rate salary for that position, instead of the lowball salary for level L-1 that they tried to get me to accept the last time I interviewed there. I don’t think it’s reasonable to work there for very long at L4 or L5 in the Bay Area since it’s not affordable, unless you have a super cheap housing situation or an obvious path to a quick L6 promotion. But I’m also much less willing to go to the trouble of interviewing again, since they wasted my time with the insultingly low offer after I aced the interview.\n",
      "---\n",
      "Found a matching div element:\n",
      "I interned at Google Research in summer 2016; so here’s my two cents: Basically, as Jon Orwant has pointed out, Google Research is not isolated from the rest of Google. The engineering teams and the research teams work closely, with the research team doing more experimental stuff while the engineering team working more on the product side. However, the boundaries are not well-defined — the researchers also contribute in product development, and the engineers contribute in running experiments. Secondly, broadly speaking, you can divide the research projects into two categories — short-term, like improving the performance of some already existing product; vs long-term, where you are creating a new product/framework altogether, such as TensorFlow or self-driving cars. As a researcher, the nature of your work will depend on which category your product lies in. For instance, you will likely have more flexibility [with regards to programming language, design decisions, experimental setup, etc.] for long term projects compared to short-term ones. Consequently, you would expect more challenges in the long-term projects, which will in turn often amount to more number of people involved in the project [directly or indirectly]. In comparison with research at a university, the benefits of working at Google Research [or any other large tech company, for that matter] are pretty much similar to the ones for software engineering positions at these companies — there will always be a lot of cool projects around you, which you can contribute to, and whatever you’re working on, there will be many very smart people around you with whom you can brainstorm or ask for help on various components of your project.\n",
      "---\n",
      "Found a matching div element:\n",
      "Very Interesting and Tough Question? But if you get a chance to work at google, you will feel to be the King, and your friends and neighbors are the pawn..\n",
      "---\n",
      "Found a matching div element:\n",
      "It's pretty great. Some of the great things that distinguish design at Google from design at other popular tech companies:We have all-star engineers, and the implications of that in the design process shouldn't be understated. It encourages designers to think really big, knowing that many of the crazy ideas can actually be done. I've referred several times to the idea of invoking \"Google [algorithmic] magic\" to get something done during brainstorming.Many of the designers themselves have a pretty substantial technical background. The whole technical designer \"unicorn\" idea isn't so rare. I generally think that it's helpful for designs in tech to have technical knowledge. There's a pretty good prototyping culture. I haven't seen as much of the engineer vs. designer culture clash that's sometimes apparent at other companies.Despite being a huge, well-known company, the design culture at Google is relatively young since everything was shaken up in 2011, so each designer has a good amount of influence in how design process in the company can be improved.Employees get to see most of the secret projects going on in the company and can easily chat with others, and it's basically built-in design inspiration from people who are doing cutting-edge work. It seems like there is constantly an abundance of exciting projects happening within the company that, when they make it to the public, will get designers thinking of new ideas. Working at Google is kind of like an early access pass for that.While Google's obviously a for-profit company, I do think that the work that the company is doing genuinely helps people. That's something that's crucially important to me when considering work, especially from a \"user-centered design\" perspective. This, combined with the breadth of impact at which Google operates, is really appealing to me.I have the chance to meet and work with people whose work I previously read about or used, which is really neat.The downsides include:Since the design culture is young, and the company is heavily engineering-oriented, it can sometimes feel out of place to be a designer. This was only really an issue for me during the first couple of weeks, though.As a large company, Google has the normal sort of organizational obstacles that you might expect. It's not as easy to move forward with things as in the average early-stage startup. It's not totally a bad thing, since it ensures high quality.A more neutral distinction is that since Google operates at large scale, the \"user\" to design for often doesn't have that many clear, defining features; we kind of literally design for everyone. As someone whose HCI education encouraged him to zone in on specific target audiences (ex: finding a few example users to personally interview), this is a different way of thinking. I just started on Chrome UX a couple months ago, so these are all early thoughts. Maybe I'll update this answer down the road. Short answer: I'm super fortunate to be at Google as a designer.\n",
      "---\n",
      "Found a matching div element:\n",
      "It certainly wouldn’t suit some people. It is a lot of struggling with ill-defined problems until you can wrestle them into submission… one of those problems is, how should I manage my career at Google? There is enormous scope for doing interesting and world-changing things… along with the enormous responsibility of not being evil while changing the world. Trouble is, it’s so easy to do evil by accident. SRE is genuinely hard… while on call, you’re the point person for operating one aspect of the biggest machine on the planet. Literally anything can pop up on your phone at any hour during your shift, and you have to drop everything and get on your computer and figure out what to do with it. That means knowing your system so well you can debug it from memory, and knowing your own limitations so well you can be absolutely sure you will recognise that this is something you should not be working on alone, and instead of chase the problem directly you need to activate incident management, and by doing so bring in lots of help. The job isn’t to fix it, it is to ensure that it gets fixed. One time I said to a manager, about how I found it to work in SRE, that “This is the best computer game in existence. It’s a professional sport, you cannot pay to play, but it’s the best game out there”. I stand by that, it’s incredibly rewarding. But like any pro sport, it is also tough. How would you feel if you knew that, at the point in time the system paged, users all over the world had already had page loads fail, and that you had two or three minutes before someone started tweeting that Google had an outage? There are a couple of SRE teams that work like that. Not mine, mine is more like when the pager goes off with the scariest page, you have 18 minutes to get the system back online or it’s going to be full-page news stories tomorrow; that page has fired for real only once, and it did create headlines.\n",
      "---\n"
     ]
    }
   ],
   "source": [
    "from selenium import webdriver\n",
    "from selenium.webdriver.common.by import By\n",
    "from selenium.webdriver.common.action_chains import ActionChains\n",
    "from selenium.webdriver.support.ui import WebDriverWait\n",
    "from selenium.webdriver.support import expected_conditions as EC\n",
    "from bs4 import BeautifulSoup\n",
    "\n",
    "url = f\"https://www.quora.com/search?q=what%20is%20it%20like%20working%20at%20{company}\"\n",
    "\n",
    "# Initialize a headless browser \n",
    "driver = webdriver.Chrome()  \n",
    "\n",
    "driver.get(url)\n",
    "\n",
    "wait = WebDriverWait(driver, 10)\n",
    "wait.until(EC.presence_of_element_located((By.CLASS_NAME, \"qu-userSelect--text\")))\n",
    "\n",
    "page_source = driver.page_source\n",
    "soup = BeautifulSoup(page_source, \"html.parser\")\n",
    "\n",
    "button_elements = driver.find_elements(By.XPATH, \"//div[@class='q-text qu-cursor--pointer QTextTruncated__StyledReadMoreLink-sc-1pev100-3 dXJUbS qt_read_more qu-color--blue_dark qu-fontFamily--sans qu-pl--tiny']\")\n",
    "\n",
    "company_blog_posts=[]\n",
    "for button_element in button_elements[:10]:\n",
    "    button_element.click()  \n",
    "    \n",
    "page_source = driver.page_source\n",
    "# Get the page source after dynamic content has loaded\n",
    "soup = BeautifulSoup(page_source, \"html.parser\")\n",
    "\n",
    "div_elements = soup.find_all('div', class_='q-box spacing_log_answer_content puppeteer_test_answer_content')\n",
    "for div_element in div_elements[:100]:\n",
    "    company_blog_posts.append(div_element.get_text())\n",
    "\n",
    "for c in company_blog_posts:\n",
    "    print(\"Found a matching div element:\")\n",
    "    print(c)\n",
    "    print(\"---\")\n",
    "\n"
   ]
  },
  {
   "cell_type": "markdown",
   "id": "34be1989-1c6c-44e7-9c21-f30eeea0bc0c",
   "metadata": {},
   "source": [
    "Note that we have extracted raw blog posts and have stored it in company_blog_posts. "
   ]
  },
  {
   "cell_type": "markdown",
   "id": "dc77c0a0-b489-4fe6-ac24-3f0819120bd9",
   "metadata": {},
   "source": [
    "## Pre-Processing of extracted data (Removal of stop words and tokenisation)"
   ]
  },
  {
   "cell_type": "markdown",
   "id": "7e9feed6-f935-4288-8c20-0a2269697f44",
   "metadata": {},
   "source": [
    "In my code, I have incorporated the NLTK library's Stop words and Punkt tokenizer for effective text processing. \n",
    "<br/> **Stop words** removal plays a crucial role in enhancing the quality of textual analysis by filtering out common words that carry little semantic meaning, thus allowing a focus on more significant terms. \n",
    "<br/> **Punkt Sentence Tokenizer** helps to process the abbreviation words, upper case characters, collocations, special characters, whitespaces and many more, making it particularly effective summarisation.\n",
    "\n",
    "These preprocessing steps contribute to the efficiency and precision of natural language processing tasks, ensuring a more refined understanding of the underlying text."
   ]
  },
  {
   "cell_type": "code",
   "execution_count": 3,
   "id": "7f58dec7-868a-4b45-a55d-1c2e18242998",
   "metadata": {},
   "outputs": [
    {
     "name": "stdout",
     "output_type": "stream",
     "text": [
      "\n",
      "Preprocessed Individual Blogs\n",
      "1: never worked anywhere apart google draw comparison think pros get work set people always make feel shit make realize know little joined google suffered imposter syndrome always comfort zone always know improve helps grow learn degree freedom regarding want work spectacular changing project team relatively easier choose spend 20 time anything food much talked perks google actually help improve productivity feel like employer cares would like return favor even internal website employees talk waste time google good company invests growth employees tons learning resources people volunteer mentor others access code ever written google several voluntary trainings bottleneck learning googley culture amazing people worked google high ethical moral standards system continuous feedback people trying pull people often get rewarded recognized via public thank sufficient number channels bubble ideas concerns appropriate mailing list almost everything game thrones company way big keep happening personal connections much use get documented never happened every passing day feel like google becoming less desirable place work perks many companies caught google exclusive google perks thing past things like memo makes work good things need good improve need work good things deadlock often face google easy way around hard convince people get something done mostly everyone damn large part knowledge experience gained google transferable always internal cases better version popular technologies available hardly ever use tool technology invented google ever go google probably learn lot standard tools popular outside 10th work anniversary manager google asked feel 10 years said something similar wake one morning feel like going work okay however would worried happens often past 10 years everyday wake morning new challenge waiting always feel excited coming work never feel like like going work think drives lot people google including\n",
      "\n",
      "2: worked google contractor employee like divided two categories official policies actual perception latter depends lot team mine pm contractors discrimination anything google official policies regarding contractors badge red c ityou specifically instructed say social media profiles work google work company xyz google may confuse folks less ring work google rare areas googleplex may open contractors sure seen anything restricted yet wanted check access corporate wiki tends old stuff anyway new stuff goes google sites also request access corp wiki need information stored easy justify various programming pay nominal fee able use shuttles irs consider employee benefits cafeterias snacks gyms showers etc free allyou fill timesheet employer mostly second tier contractors laptop previous desktopsyou also get one desktop laptop contractor employees easily get however manager director approve request extra machine good without corporate laptop ca access internal network unless google campus surprisingly include one ca officially use many educational opportunities grow instructor classes presumably show audit something wo kicked related tools like freshlens giving feedback outsider google products new google limited employeesshould bring guests employees delight guests google free special occasion perks imagine limited employees one example bmw drive program membership special bunch events employees others specifically open contractors movie nights others specify probably nobody mind speakers fitness instructors sorts still access facilities cafeterias gyms mail laundry bike repair whatnot anyway contractor probably hopefully job stop looking stuff mooch one odd pro working contract go performance review cycle complained perf process caused perverse incentives google teams employees launch new products mainly get promoted people deserve promotions get unclear reasons another one probably able focus one thing well roles deal variety technologies end knowing bit lot lack deep expertise topic overall problems contractor save snag requesting laptop tickets filed generally treated seriously expected submitted employees would note contracting staffing agency know like contract\n",
      "\n",
      "3: google tokyo office first international office creative passionate people come together one best place work japan located roppongi hills mori tower tokyo building home mori art museum got table tennis pool table music room espresso bar many get feel traditional ryokan office also features classic japanese design see mt fuji feel relaxed enjoying work enjoy local specialties like curries noodle dishes sashimi sushi friday every friday food around world even special seating take shoes eat engineers work search ads maps chrome android products make huge impacts japan also benefit millions users around tokyo google careers google tokyo built person finder app 2 hours earthquake tsunami 2011 helped people locate people also find data routes working operational real time would get see lot awesome events celebrities like ryuichi sakamoto group akb48 already performed googlers also get go really cool teams everything horseback riding annual ski trip also see lot hackathon taking place short perfect environment growth fun create impact skills\n",
      "\n",
      "4: edit please pm get job google ton brilliant quora answers able guide much better thank views listed google endorse may may applicable indian googlers points based perception one else may perceived things differently let agree disagree 2 worked hyderabad office answers might applicable google hyderabad vs google bangalore say mumbai worked organisations google india may applicable organisation others 3 longer employed google left pursue higher education like work google india let share experiences form short divided answer 2 sections exceeds expectations thing google india really really well needs improvement things made better exceeds expectations perksone fine monday morning single ten rupee note wallet checked wallet friday evening still single ten rupee note google spend dime weekdays reach office office provided cab eat free google cafes snacks dinner office reach home one office favorite perks working google india sleeping office cabs way home hectic day work also cab service offered india us google provides shuttle service cab service exist country best knowledge wallets security pretty great leave wallet watch laptop etc anywhere office expect find back place next day security 2 years google never heard anyone stuff getting roles allow overseas travel opportunities went business trip europe followed guidelines daily allowances pretty generous asked single question drinks wanted kinds exotic food company card companies cost driven google value driven cost asking business justification every bill expensive letting employee productive work time see point 4 culture google offers generous dental vision insurance top health insurance underwent lasik surgery covered google vision insurance completely generally lasik considered cosmetic surgery covered know couple indian googlers never leave google amazing health insurance provides family members need permanent medical employment undertake professional course related job google reimburses total cost case personal development google reimburses cost guitar lessons dancing lessons learning new language etc come purview personal reimbursement used personal reimbursement couple times smooth process upload bills fill small form done much said google food inter webs anything new add realise importance weekends get food bachelor lives alone like cook perks enjoyed tenure google india site gym playing table tennis pool xbox foosball concierge service takes care daily errands like dispatching courier paying bills etc free nominal laundry service free mail room order amazon flipkart goodies also house coffee shop free library office culture club theatre club football club cricket club basketball club hyderabad least tries best care celebrate every employee work anniversary decorating work desk offering massage points india translates 60 minutes free desk looked like 2nd work anniversary makes difference notice period free goodies team extra budget great let order goodies organisation cash leftover annual budget great let order goodies received google couple hoodies external hard disk wireless speakers headphones backpacks selfie stick neck pillow keychains pen drives coffee mugs etc 2 years amount money google spends employee staggering lot companies would pat back saving money party budget carry next year google talking goodies grand daddy annual christmas gift awarded employee received nexus 5x last christmas android one phone year diwali culturegoogle allows one screw fits bolts policy come time want leave want concept attendance normal office hours one colleagues got exceptional rating last cycle habit coming office 3 pm defense work till 12 night wear whatever want dress code bullshit judged well shirt unsaid rules working google nice respectful people hold doors hold doors people expect hear word thanks variant every bureaucratic bullshit google tries best eliminate hassles employees proper channels everything question latest payslip mail email alias get concern addressed 24 hours less need get expenses reimbursed go internal portal fill form done jump hoops get things done true pretty much internal memes site check eric schmidt book details criticise ceo senior vps management etc without repercussions voice disagreement ok respectfully agree disagree also googlers first arms decision taken company may user best interests integrating youtube unpopular decision internally people shy came expressing disagreement google india celebrates multiple festivals every year decorating office preparing special food days also bring children work multiple times year install make shift slides play houses office children also multiple initiatives organised googlers googlers give something back work work largely depend organisation join skill increments every year quite generous time people bitch increments compare neighbor got 20 got 30 last year blah blah obviously increments dependent current base salary say projects project interest decline take obviously need convince manager managers agree give project want pretty good internal mobility program competition immense see point needs improvement section needs improvementone colleagues used jokingly say google hires work janitors true large extent google hires ceos work mid level managers people work google india way jobs google india wants hire someone write email go hire topper du want hire someone provide call support users go hire english hons topper du remember need 99 boards clear du cut google ivy league colleges move data one database see pattern leads immense interesting roles mountain view engineering division hyderabad bangalore work google apps work small team sure exact numbers definitely less 1 total engineering workforce google two largest organisations google india sales org wing google take offensive content come work google india expect work cutting edge product like driverless cars brain loon expect work something india offers limited scope career growth obviously become working india 80 workforce based mountain view roles india limited since handful organisations based india sooner later anyone iota ambition constrained family move mountain view internal mobility pretty great way minus tons competition good roles see point 1 google runs lot programs train management provides lot support employees keep stress free remove politics workplace however google system run people end day people flawed politics creep picture might comparatively less many places organisations messy comes much manager willing push case best relationships manager manager like face find new manager asap manager someone backs easily say promotion knew guy floor would stand behind reportees like wall noun rahul dravid multiple reportees team got promoted cycle said manager reputation backing easily like deserving candidates latter team scene significantly different less messy tech promotions lack transparency around committee sits evaluate candidature promotion unnerving google allows disagree decisions upper management back mind always scared say never know stage may come bite backside almost senior person floor get screwed promotion absolutely afford piss anyone sits one promo committees senior manager whose xyz decision disagreed says happy work one closed committee meetings immediate manager fight tooth nail promotion gone point specially true google india think google india managers good taking criticisms reportees almost questions asked town hall meetings anonymous management allow anonymous questions town hall questions asked town hall lot mistrust management needs fixed india takes awfully long time weed bad managers managers bad approval ratings given multiple chances become better job take anywhere 3 years never google identify bad manager ask either become individual contributor find another role somewhere else problem following bad individual contributor screws project bad manager screws career multiple reportees multiple projects entire team relationship said google put checks internal culture escalation mediums ensures manager show consideration human unlike notorious indian industry addressed resource human however people simply cut people management blame google simply hope get better filtering candidates early removing sooner also change annual manager feedback survey make actionable hold manager responsible currently manager feedback survey useless used manager particular manager thinks along lines hey good manager people reporting given approval 30 idiots care survey survey becomes entirely meaningless accountability manger bad survey might slightly controversial google fire anyone low performance con let explain amazon policy firing 10 staff every year stack ranking google rarely fires anyone low performance best multiple bad reviews asked find new team job given enough time google amazon opinion two extreme ends spectrum one leads slack leads stress fear losing job think middle path suitable approach 2 cents said google provide incentives work hard hard work leads good ratings leads better pay equity better faster career growth however occasionally find people content putting absolute minimum job simply happy take home salary flying radar india notorious hiring people wrong level know many people hired one level offered job google india definitely try reach existing indian googler evaluate level suitable profile try negotiate recruiter also let push around recruiters think birthright hire wrong level low salary offering chance work point applicable ladders google uses internal tools everything learn lot skills job translate something industry rely soft skills get next work space floor noisy times specially post 5 pm sometimes impossible work without headphones whatever reasons beyond comprehension folks used take meetings desks take 30 personal calls sitting desk happily oblivious amount noise annoyance causing everyone bay either need put headphones go request move somewhere else often either put headphones move somewhere else want appear amount freebies perks sometimes make entitled become entitled others bad apples treat temporary employees tvcs disrespect engineering guys look guys please notice word mean work speak need spend lot time market work includes sending emails reaching upper management office hours subtly praise work speaking meetings talking work difficult introverts people uncomfortable boasting promotions amount work put completely meaningless get promoted need deliver projects show impact management keeps flip flopping scope project collaborating someone care either need superman deliver project end end forget promotion also even successfully execute complex project whatever reason metrics gods favorable impact numbers look good much good hand quite possible someone land super easy project gain lot brownie points showing good numbers thanks business requirements particular microsoft problem google india like google expanding fast rate means competition lesser budgets everything budgets parties gifts events sites decreased years get wrong perks budgets still high every time number coffee machines floor get reduced favorite expensive candy micro kitchen go missing size packets cookies micro kitchen go large small lot old timers start speculating upcoming apocalypse apocalypse end perks culture know throw nooglers ocean let either learn swim drown completely metaphorical google culture less google india culture new joinee couple short meetings explaining role team expected fly given span 6 months ramp learn things run problem expected reach someone seek help body come ask need help sure including needs improvement section google hires ambitious people like get things done however beginning intimidating expected struggle lot even basic things google getting right accesses getting added correct groups submitting simple change codebase require read internal documentation ask someone line come work google india brand leave pursue better quality work elsewhere either mountain view another company google india good employer treats well honeymoon period quality work keep satisfied dissatisfied work place amount free chocolates freebies able compensate choose role wisely expect flying unicorns something keep mind free stuff cease excite like cell phone exciting anymore like last car clothes stopped pleasing couple liked answer follow twitter\n",
      "\n",
      "5: writing anonymously used work google software engineer possible end working day left google years ago work another major tech company indeed lot good things working perfect people seem expect negatives software engineers treated equivalent interviewing system requires everyone judged sort standard engineering interview questions specialized knowledge irrelevant hiring process got interviews student fresh undergrad would problem devalues specialized knowledge might actually benefit researchers usually hired software engineers actually worked google research time google ai still got engineer title negative think impacted career negatively google later job promotion system penalizes work innovative projects rewards churn incremental small features existing products research background routinely asked build prototypes new ideas work new products public great job despite great performance reviews strongly exceeds expectations got couple years row unable get promoted anonymous promotion committee committee made people know work read write manager peers make supposed reduce bias case peers manager senior people vouched supported promotion still committee rejected reason simply enough impact since projects internal launched public yet l4 employee one step senior official job description senior l5 stated impact group work delivering assigned projects good enough promotion impact end users required indeed delivered requested work reason end user impact much managers would change strategy cancel projects worked getting denied promotion people getting promoted adding crappy little features google plus like forcing youtube commenters google plus account later similar people getting promoted work removing google plus integration cancelled promoted since project got cancelled launched people launching stupid things rewarded promotion policy incidentally probably one reasons google many weird similar products like 3 different chat apps also removing support projects sometimes makes lowball salary offers quit google much better position higher level higher pay elsewhere later google got offer l5 essence promotion leaving previous managers enthusiastic found new team needed specialized knowledge however going interview process given offer return higher lever making made prior leaving much less compensation google competitor told recruiter come back reasonable l5 salary named number said google policy change offer unless competing offer competitor told working competitor right want switch jobs need pay talent making lot communicated compensation folks reiterated would give higher read yet another competing offer declined harm done except great waste time changed refresh policy get additional stock grant year join interviewing return google january top offer would miss entire round stock grants putting compensation year behind someone started prior dec 31 thanks basically google screwing average people start july 1 given year return google make sure time good engineering systems also really clunky annoying ones lot open source software stacks much easier work instance making service simply stays running datacenters datacenter goes maintenance way harder code vim since good support food sort nice also easier overeat gain weight trust perk us negative strange may bay area darn expensive want get promoted responsibility instead wanted get promoted order able live without roommates apartment maybe one day got promoted 2nd time would able buy condo living near work house forget house prices plus insane california tax rates make hard get ahead even software engineer google expertise machine learning houses around area people living together like college roommates everyone google etc employee time grow claim normal life elsewhere case actually moved cheaper city got huge increase compensation since google artificially denied promotion attempts value knowledge domain experience way companies point would consider returning google offered job l6 level outside bay area salary position instead lowball salary level tried get accept last time interviewed think reasonable work long l4 l5 bay area since affordable unless super cheap housing situation obvious path quick l6 promotion also much less willing go trouble interviewing since wasted time insultingly low offer aced interview\n",
      "\n",
      "6: interned google research summer 2016 two cents basically jon orwant pointed google research isolated rest google engineering teams research teams work closely research team experimental stuff engineering team working product side however boundaries researchers also contribute product development engineers contribute running experiments secondly broadly speaking divide research projects two categories like improving performance already existing product vs creating new altogether tensorflow cars researcher nature work depend category product lies instance likely flexibility regards programming language design decisions experimental setup etc long term projects compared ones consequently would expect challenges projects turn often amount number people involved project directly indirectly comparison research university benefits working google research large tech company matter pretty much similar ones software engineering positions companies always lot cool projects around contribute whatever working many smart people around brainstorm ask help various components project\n",
      "\n",
      "7: interesting tough question get chance work google feel king friends neighbors pawn\n",
      "\n",
      "8: pretty great great things distinguish design google design popular tech companies engineers implications design process understated encourages designers think really big knowing many crazy ideas actually done referred several times idea invoking google algorithmic magic get something done designers pretty substantial technical background whole technical designer unicorn idea rare generally think helpful designs tech technical knowledge pretty good prototyping culture seen much engineer designer culture clash sometimes apparent huge company design culture google relatively young since everything shaken 2011 designer good amount influence design process company get see secret projects going company easily chat others basically design inspiration people work seems like constantly abundance exciting projects happening within company make public get designers thinking new ideas working google kind like early access pass google obviously company think work company genuinely helps people something crucially important considering work especially design perspective combined breadth impact google operates really appealing chance meet work people whose work previously read used really downsides include since design culture young company heavily sometimes feel place designer really issue first couple weeks large company google normal sort organizational obstacles might expect easy move forward things average startup totally bad thing since ensures high neutral distinction since google operates large scale user design often many clear defining features kind literally design everyone someone whose hci education encouraged zone specific target audiences ex finding example users personally interview different way thinking started chrome ux couple months ago early thoughts maybe update answer road short answer super fortunate google designer\n",
      "\n",
      "9: certainly suit people lot struggling problems wrestle one problems manage career google enormous scope interesting along enormous responsibility evil changing world trouble easy evil accident sre genuinely call point person operating one aspect biggest machine planet literally anything pop phone hour shift drop everything get computer figure means knowing system well debug memory knowing limitations well absolutely sure recognise something working alone instead chase problem directly need activate incident management bring lots help job fix ensure gets fixed one time said manager found work sre best computer game existence professional sport pay play best game stand incredibly rewarding like pro sport also tough would feel knew point time system paged users world already page loads fail two three minutes someone started tweeting google outage couple sre teams work like mine mine like pager goes scariest page 18 minutes get system back online going news stories tomorrow page fired real create headlines\n",
      "\n"
     ]
    },
    {
     "name": "stderr",
     "output_type": "stream",
     "text": [
      "[nltk_data] Downloading package stopwords to C:\\Users\\Aishika\n",
      "[nltk_data]     Nandi\\AppData\\Roaming\\nltk_data...\n",
      "[nltk_data]   Package stopwords is already up-to-date!\n",
      "[nltk_data] Downloading package punkt to C:\\Users\\Aishika\n",
      "[nltk_data]     Nandi\\AppData\\Roaming\\nltk_data...\n",
      "[nltk_data]   Package punkt is already up-to-date!\n"
     ]
    }
   ],
   "source": [
    "import nltk\n",
    "from nltk.corpus import stopwords\n",
    "from nltk.tokenize import word_tokenize\n",
    "\n",
    "nltk.download('stopwords')\n",
    "nltk.download('punkt')\n",
    "stop_words = set(stopwords.words('english'))\n",
    "\n",
    "def process_review(review):\n",
    "    words = word_tokenize(review)\n",
    "    filtered_words = [word.lower() for word in words if word.isalnum() and word.lower() not in stop_words]\n",
    "    summary = ' '.join(filtered_words)\n",
    "    return summary\n",
    "\n",
    "cummulative_pp = ''\n",
    "for review in company_blog_posts:\n",
    "    summary = process_review(review)\n",
    "    cummulative_pp += summary + ' '\n",
    "\n",
    "individual_post_pp = [process_review(review) for review in company_blog_posts]\n",
    "\n",
    "# Display individual summaries\n",
    "print(\"\\nPreprocessed Individual Blogs\")\n",
    "for i, summary in enumerate(individual_post_pp, start=1):\n",
    "    print(f\"{i}: {summary}\\n\")\n",
    "\n"
   ]
  },
  {
   "cell_type": "markdown",
   "id": "0d60e770-78f5-4b25-abe2-b375cbe5fd41",
   "metadata": {},
   "source": [
    "## Summarizer (Pre-Trained Bart-Large model)"
   ]
  },
  {
   "cell_type": "markdown",
   "id": "820dda30-3e00-4c40-85c1-057a4b93ae53",
   "metadata": {},
   "source": [
    "### Summarisation on raw blogs "
   ]
  },
  {
   "cell_type": "code",
   "execution_count": 1,
   "id": "9ed9fc40-2064-4c01-a543-558866397684",
   "metadata": {},
   "outputs": [
    {
     "name": "stdout",
     "output_type": "stream",
     "text": [
      "Features: ['document', 'summary']\n"
     ]
    },
    {
     "name": "stderr",
     "output_type": "stream",
     "text": [
      "C:\\Users\\Aishika Nandi\\AppData\\Local\\Programs\\Python\\Python311\\Lib\\site-packages\\datasets\\table.py:1421: FutureWarning: promote has been superseded by mode='default'.\n",
      "  table = cls._concat_blocks(blocks, axis=0)\n"
     ]
    }
   ],
   "source": [
    "from datasets import load_dataset\n",
    "import matplotlib.pyplot as plt\n",
    "\n",
    "dataset = load_dataset(\"multi_news\")\n",
    "print(f\"Features: {dataset['train'].column_names}\")"
   ]
  },
  {
   "cell_type": "code",
   "execution_count": 2,
   "id": "8aa78162-030f-410e-aaaf-673118547da2",
   "metadata": {},
   "outputs": [
    {
     "data": {
      "text/plain": [
       "DatasetDict({\n",
       "    train: Dataset({\n",
       "        features: ['document', 'summary'],\n",
       "        num_rows: 44972\n",
       "    })\n",
       "    validation: Dataset({\n",
       "        features: ['document', 'summary'],\n",
       "        num_rows: 5622\n",
       "    })\n",
       "    test: Dataset({\n",
       "        features: ['document', 'summary'],\n",
       "        num_rows: 5622\n",
       "    })\n",
       "})"
      ]
     },
     "execution_count": 2,
     "metadata": {},
     "output_type": "execute_result"
    }
   ],
   "source": [
    "dataset"
   ]
  },
  {
   "cell_type": "code",
   "execution_count": 3,
   "id": "3180c20f-1143-443d-a4d0-eeab5ea42692",
   "metadata": {},
   "outputs": [
    {
     "name": "stdout",
     "output_type": "stream",
     "text": [
      "Document (excerpt of 2000 characters, total length: 5353):\n",
      "LOS ANGELES (AP) — In her first interview since the NBA banned her estranged husband, Shelly Sterling says she will fight to keep her share of the Los Angeles Clippers and plans one day to divorce Donald Sterling. \n",
      " \n",
      " (Click Prev or Next to continue viewing images.) \n",
      " \n",
      " ADVERTISEMENT (Click Prev or Next to continue viewing images.) \n",
      " \n",
      " Los Angeles Clippers co-owner Shelly Sterling, below, watches the Clippers play the Oklahoma City Thunder along with her attorney, Pierce O'Donnell, in the first half of Game 3 of the Western Conference... (Associated Press) \n",
      " \n",
      " Shelly Sterling spoke to Barbara Walters, and ABC News posted a short story with excerpts from the conversation Sunday. \n",
      " \n",
      " NBA Commissioner Adam Silver has banned Donald Sterling for making racist comments and urged owners to force Sterling to sell the team. Silver added that no decisions had been made about the rest of Sterling's family. \n",
      " \n",
      " According to ABC's story, Shelly Sterling told Walters: \"I will fight that decision.\" \n",
      " \n",
      " Sterling also said that she \"eventually\" will divorce her husband, and that she hadn't yet done so due to financial considerations. ||||| Shelly Sterling said today that \"eventually, I am going to\" divorce her estranged husband, Donald Sterling, and if the NBA tries to force her to sell her half of the Los Angeles Clippers, she would \"absolutely\" fight to keep her stake in the team. \n",
      " \n",
      " \"I will fight that decision,\" she told ABC News' Barbara Walters today in an exclusive interview. \"To be honest with you, I'm wondering if a wife of one of the owners, and there's 30 owners, did something like that, said those racial slurs, would they oust the husband? Or would they leave the husband in?\" \n",
      " \n",
      " Sterling added that the Clippers franchise is her \"passion\" and \"legacy to my family.\" \n",
      " \n",
      " \"I've been with the team for 33 years, through the good times and the bad times,\" she added. \n",
      " \n",
      " These comments come nearly two weeks after NBA Commissioner Adam Silver announced a lifetime ban and a $2.5 \n",
      "\n",
      "Summary (length: 501):\n",
      "– Shelly Sterling plans \"eventually\" to divorce her estranged husband Donald, she tells Barbara Walters at ABC News. As for her stake in the Los Angeles Clippers, she plans to keep it, the AP notes. Sterling says she would \"absolutely\" fight any NBA decision to force her to sell the team. The team is her \"legacy\" to her family, she says. \"To be honest with you, I'm wondering if a wife of one of the owners … said those racial slurs, would they oust the husband? Or would they leave the husband in?\"\n"
     ]
    }
   ],
   "source": [
    "sample = dataset[\"train\"][1]\n",
    "print(f\"\"\"Document (excerpt of 2000 characters, total length: {len(sample[\"document\"])}):\"\"\")\n",
    "print(sample[\"document\"][:2000])\n",
    "print(f'\\nSummary (length: {len(sample[\"summary\"])}):')\n",
    "print(sample[\"summary\"])"
   ]
  },
  {
   "cell_type": "code",
   "execution_count": 4,
   "id": "0bf5fbf2-b74d-442d-8a9f-e8c8fb08f39b",
   "metadata": {},
   "outputs": [],
   "source": [
    "from transformers import BartForConditionalGeneration, AutoTokenizer\n",
    "\n",
    "model_ckpt = \"sshleifer/distilbart-cnn-6-6\"\n",
    "tokenizer = AutoTokenizer.from_pretrained(model_ckpt)\n",
    "model = BartForConditionalGeneration.from_pretrained(model_ckpt)"
   ]
  },
  {
   "cell_type": "code",
   "execution_count": 5,
   "id": "d676c201-fa24-47c9-a341-0bf9f76a6094",
   "metadata": {},
   "outputs": [
    {
     "name": "stderr",
     "output_type": "stream",
     "text": [
      "Token indices sequence length is longer than the specified maximum sequence length for this model (2331 > 1024). Running this sequence through the model will result in indexing errors\n"
     ]
    }
   ],
   "source": [
    "d_len = [len(tokenizer.encode(s)) for s in dataset[\"validation\"][\"document\"]]\n",
    "s_len = [len(tokenizer.encode(s)) for s in dataset[\"validation\"][\"summary\"]]"
   ]
  },
  {
   "cell_type": "code",
   "execution_count": 7,
   "id": "ebcf953c-adcc-441e-9151-09acd7d5c6c1",
   "metadata": {},
   "outputs": [
    {
     "data": {
      "image/png": "[encoded data removed]",
      "text/plain": [
       "<Figure size 1000x350 with 2 Axes>"
      ]
     },
     "metadata": {},
     "output_type": "display_data"
    }
   ],
   "source": [
    "fig, axes = plt.subplots(1, 2, figsize=(10, 3.5), sharey=True)\n",
    "axes[0].hist(d_len, bins=20, color=\"C0\", edgecolor=\"C0\")\n",
    "axes[0].set_title(\"Document Token Length\")\n",
    "axes[0].set_xlabel(\"Length\")\n",
    "\n",
    "axes[0].set_ylabel(\"Count\")\n",
    "axes[1].hist(s_len, bins=20, color=\"C0\", edgecolor=\"C0\")\n",
    "axes[1].set_title(\"Summary Token Length\")\n",
    "axes[1].set_xlabel(\"Length\")\n",
    "plt.tight_layout()\n",
    "plt.show()"
   ]
  },
  {
   "cell_type": "code",
   "execution_count": 8,
   "id": "e69274d4-1424-44ca-92e8-407b6b22aee4",
   "metadata": {},
   "outputs": [
    {
     "data": {
      "application/vnd.jupyter.widget-view+json": {
       "model_id": "98f5f40c7c6c483b9ca764be211183d6",
       "version_major": 2,
       "version_minor": 0
      },
      "text/plain": [
       "Map:   0%|          | 0/5622 [00:00<?, ? examples/s]"
      ]
     },
     "metadata": {},
     "output_type": "display_data"
    },
    {
     "name": "stderr",
     "output_type": "stream",
     "text": [
      "C:\\Users\\Aishika Nandi\\AppData\\Local\\Programs\\Python\\Python311\\Lib\\site-packages\\transformers\\tokenization_utils_base.py:3856: UserWarning: `as_target_tokenizer` is deprecated and will be removed in v5 of Transformers. You can tokenize your labels by using the argument `text_target` of the regular `__call__` method (either in the same call as your input texts if you use the same keyword arguments, or in a separate call.\n",
      "  warnings.warn(\n"
     ]
    }
   ],
   "source": [
    "def convert_examples_to_features(example_batch):\n",
    "    input_encodings = tokenizer(example_batch[\"document\"], max_length=1024, truncation=True)\n",
    "    \n",
    "    with tokenizer.as_target_tokenizer():\n",
    "        target_encodings = tokenizer(example_batch[\"summary\"], max_length=256, truncation=True)\n",
    "        \n",
    "    return {\"input_ids\": input_encodings[\"input_ids\"], \n",
    "           \"attention_mask\": input_encodings[\"attention_mask\"], \n",
    "           \"labels\": target_encodings[\"input_ids\"]}\n",
    "\n",
    "dataset_tf = dataset.map(convert_examples_to_features, batched=True)"
   ]
  },
  {
   "cell_type": "code",
   "execution_count": 9,
   "id": "eda114d2-dfe9-4a1b-98bc-b85813a0a2e9",
   "metadata": {},
   "outputs": [],
   "source": [
    "columns = [\"input_ids\", \"labels\", \"attention_mask\"]\n",
    "dataset_tf.set_format(type=\"torch\", columns=columns)"
   ]
  },
  {
   "cell_type": "code",
   "execution_count": 10,
   "id": "776e7124-19fd-41c1-811a-fa2aae791495",
   "metadata": {},
   "outputs": [],
   "source": [
    "from transformers import DataCollatorForSeq2Seq\n",
    "seq2seq_data_collator = DataCollatorForSeq2Seq(tokenizer, model=model)"
   ]
  },
  {
   "cell_type": "code",
   "execution_count": 11,
   "id": "4c237a80-49c0-42c4-84f9-80c57c40adf6",
   "metadata": {},
   "outputs": [],
   "source": [
    "from transformers import TrainingArguments, Trainer\n",
    "\n",
    "training_args = TrainingArguments(output_dir='bart-multi-news', num_train_epochs=1, warmup_steps=500, \n",
    "                                  per_device_train_batch_size=1, per_device_eval_batch_size=1, \n",
    "                                  weight_decay=0.01, logging_steps=10, push_to_hub=False, \n",
    "                                  evaluation_strategy='steps', eval_steps=500, save_steps=1e6, \n",
    "                                  gradient_accumulation_steps=16)"
   ]
  },
  {
   "cell_type": "code",
   "execution_count": null,
   "id": "35cc8b4c-bd7b-4591-884a-395dbfb34bcb",
   "metadata": {},
   "outputs": [],
   "source": [
    "trainer = Trainer(model=model, args=training_args, tokenizer=tokenizer, \n",
    "                  data_collator=seq2seq_data_collator, \n",
    "                  train_dataset=dataset_tf[\"train\"], \n",
    "                  eval_dataset=dataset_tf[\"validation\"])\n",
    "trainer.train()"
   ]
  },
  {
   "cell_type": "code",
   "execution_count": null,
   "id": "5771349d-3f4e-4c84-b9ee-92f12dddca16",
   "metadata": {},
   "outputs": [],
   "source": [
    "import torch\n",
    "device = torch.device(\"cuda\" if torch.cuda.is_available() else \"cpu\")"
   ]
  },
  {
   "cell_type": "code",
   "execution_count": null,
   "id": "24dbafa7-aaf6-4395-bfff-ed8db15389c7",
   "metadata": {},
   "outputs": [],
   "source": [
    "sample_text = dataset[\"test\"][1][\"document\"]\n",
    "reference = dataset[\"test\"][1][\"summary\"]\n",
    "\n",
    "input_ids = tokenizer(sample_text, max_length=1024, truncation=True, \n",
    "                   padding='max_length', return_tensors='pt').to(device)\n",
    "summaries = model.generate(input_ids=input_ids['input_ids'], \n",
    "                           attention_mask=input_ids['attention_mask'], \n",
    "                           max_length=256)\n",
    "\n",
    "decoded_summaries = [tokenizer.decode(s, skip_special_tokens=True, \n",
    "                                      clean_up_tokenization_spaces=True) \n",
    "                    for s in summaries]\n",
    "\n",
    "print(\"Document:\")\n",
    "print(sample_text)\n",
    "print(\"\\nReference Summary:\")\n",
    "print(reference)\n",
    "print(\"\\nModel Summary:\")\n",
    "print(decoded_summaries[0])"
   ]
  },
  {
   "cell_type": "markdown",
   "id": "2e0dbcf2-f743-4218-becb-f00ee2b4f472",
   "metadata": {},
   "source": [
    "# Training Model for summarisation "
   ]
  },
  {
   "cell_type": "code",
   "execution_count": null,
   "id": "7edbe856-f6c8-4520-b79e-3ccf6cbc6f95",
   "metadata": {},
   "outputs": [],
   "source": [
    "!pip install --user transformers==4.20.0\n",
    "!pip install --user keras_nlp==0.3.0\n",
    "!pip install datasets\n",
    "!pip install huggingface-hub\n",
    "!pip install rouge-score"
   ]
  },
  {
   "cell_type": "code",
   "execution_count": null,
   "id": "a92d6a7a-ab67-4b01-9b34-aa88c4b835e0",
   "metadata": {},
   "outputs": [],
   "source": [
    "import os\n",
    "import logging\n",
    "\n",
    "import nltk\n",
    "import numpy as np\n",
    "import tensorflow as tf\n",
    "from tensorflow import keras\n",
    "\n",
    "# Only log error messages\n",
    "tf.get_logger().setLevel(logging.ERROR)\n",
    "\n",
    "os.environ[\"TOKENIZERS_PARALLELISM\"] = \"false\""
   ]
  },
  {
   "cell_type": "code",
   "execution_count": null,
   "id": "0edce4d7-0ce4-4334-9c66-28f9a128d87d",
   "metadata": {},
   "outputs": [],
   "source": [
    "TRAIN_TEST_SPLIT = 0.1  \n",
    "\n",
    "MAX_INPUT_LENGTH = 1024  \n",
    "MIN_TARGET_LENGTH = 5  \n",
    "MAX_TARGET_LENGTH = 128  \n",
    "BATCH_SIZE = 8         \n",
    "LEARNING_RATE = 2e-5    \n",
    "MAX_EPOCHS = 2          \n",
    "\n",
    "MODEL_CHECKPOINT = \"t5-small\"  \n"
   ]
  },
  {
   "cell_type": "code",
   "execution_count": null,
   "id": "eae35c44-69bb-4c25-9c74-9e15bf668540",
   "metadata": {},
   "outputs": [],
   "source": [
    "from datasets import load_dataset\n",
    "\n",
    "dataset = load_dataset(\"multi_news\", split=\"train\")\n",
    "print(dataset[0])"
   ]
  },
  {
   "cell_type": "markdown",
   "id": "a1921bde-62b6-4130-85db-a03d739c3e44",
   "metadata": {},
   "source": [
    "## Training-Testing split"
   ]
  },
  {
   "cell_type": "code",
   "execution_count": null,
   "id": "04fec6ee-2ac7-466b-b968-8d466ed888ce",
   "metadata": {},
   "outputs": [],
   "source": [
    "raw_datasets = dataset.train_test_split(\n",
    "    train_size=TRAIN_TEST_SPLIT, test_size=TRAIN_TEST_SPLIT\n",
    ")\n",
    "if MODEL_CHECKPOINT in [\"t5-small\", \"t5-base\", \"t5-large\", \"t5-3b\", \"t5-11b\"]:\n",
    "    prefix = \"summarize: \"\n",
    "else:\n",
    "    prefix = \"\"\n",
    "\n"
   ]
  },
  {
   "cell_type": "code",
   "execution_count": null,
   "id": "9be37030-853d-4847-89f0-cfc02d5af865",
   "metadata": {},
   "outputs": [],
   "source": [
    "def preprocess_function(examples):\n",
    "    inputs = [prefix + doc for doc in examples[\"document\"]]\n",
    "    model_inputs = tokenizer(inputs, max_length=MAX_INPUT_LENGTH, truncation=True)\n",
    "\n",
    "    # Setup the tokenizer for targets\n",
    "    with tokenizer.as_target_tokenizer():\n",
    "        labels = tokenizer(\n",
    "            examples[\"summary\"]\n",
    "        )\n",
    "\n",
    "    model_inputs[\"labels\"] = labels[\"input_ids\"]\n",
    "\n",
    "    return model_inputs"
   ]
  },
  {
   "cell_type": "code",
   "execution_count": null,
   "id": "053e0fc6-de72-4fed-9820-7bc9a0761519",
   "metadata": {},
   "outputs": [],
   "source": [
    "from transformers import AutoTokenizer\n",
    "\n",
    "tokenizer = AutoTokenizer.from_pretrained(MODEL_CHECKPOINT)\n",
    "tokenized_datasets = raw_datasets.map(preprocess_function, batched=True)"
   ]
  },
  {
   "cell_type": "code",
   "execution_count": null,
   "id": "8926ed39-ec1a-4108-b0fa-52a34763eafe",
   "metadata": {},
   "outputs": [],
   "source": [
    "from transformers import TFAutoModelForSeq2SeqLM, DataCollatorForSeq2Seq\n",
    "\n",
    "model = TFAutoModelForSeq2SeqLM.from_pretrained(MODEL_CHECKPOINT)"
   ]
  },
  {
   "cell_type": "code",
   "execution_count": null,
   "id": "46bbab3e-31c5-4a81-a544-e4c84fedc5ae",
   "metadata": {},
   "outputs": [],
   "source": [
    "from transformers import DataCollatorForSeq2Seq\n",
    "\n",
    "data_collator = DataCollatorForSeq2Seq(tokenizer, model=model, return_tensors=\"tf\")"
   ]
  },
  {
   "cell_type": "code",
   "execution_count": null,
   "id": "299c097a-5307-4bf8-b998-a0459d4db6b5",
   "metadata": {},
   "outputs": [],
   "source": [
    "train_dataset = tokenized_datasets[\"train\"].to_tf_dataset(\n",
    "    batch_size=BATCH_SIZE,\n",
    "    columns=[\"input_ids\", \"attention_mask\", \"labels\"],\n",
    "    shuffle=True,\n",
    "    collate_fn=data_collator,\n",
    ")\n",
    "test_dataset = tokenized_datasets[\"test\"].to_tf_dataset(\n",
    "    batch_size=BATCH_SIZE,\n",
    "    columns=[\"input_ids\", \"attention_mask\", \"labels\"],\n",
    "    shuffle=False,\n",
    "    collate_fn=data_collator,\n",
    ")\n",
    "generation_dataset = (\n",
    "    tokenized_datasets[\"test\"]\n",
    "    .shuffle()\n",
    "    .select(list(range(200)))\n",
    "    .to_tf_dataset(\n",
    "        batch_size=BATCH_SIZE,\n",
    "        columns=[\"input_ids\", \"attention_mask\", \"labels\"],\n",
    "        shuffle=False,\n",
    "        collate_fn=data_collator,\n",
    "    )\n",
    ")"
   ]
  },
  {
   "cell_type": "code",
   "execution_count": null,
   "id": "ec979155-b356-4fd6-9bf1-e5b2d0e125aa",
   "metadata": {},
   "outputs": [],
   "source": [
    "optimizer = keras.optimizers.Adam(learning_rate=LEARNING_RATE)\n",
    "model.compile(optimizer=optimizer)"
   ]
  },
  {
   "cell_type": "code",
   "execution_count": null,
   "id": "5c6e879a-964b-4e9c-93c5-80c19de71010",
   "metadata": {},
   "outputs": [],
   "source": [
    "import keras_nlp\n",
    "\n",
    "rouge_l = keras_nlp.metrics.RougeL()\n",
    "\n",
    "def metric_fn(eval_predictions):\n",
    "    predictions, labels = eval_predictions\n",
    "    decoded_predictions = tokenizer.batch_decode(predictions, skip_special_tokens=True)\n",
    "    for label in labels:\n",
    "        label[label < 0] = tokenizer.pad_token_id  # Replace masked label tokens\n",
    "    decoded_labels = tokenizer.batch_decode(labels, skip_special_tokens=True)\n",
    "    result = rouge_l(decoded_labels, decoded_predictions)\n",
    "    # We will print only the F1 score, you can use other aggregation metrics as well\n",
    "    result = {\"RougeL\": result[\"f1_score\"]}\n",
    "\n",
    "    return result\n"
   ]
  },
  {
   "cell_type": "markdown",
   "id": "51865abb-22b2-43b6-a019-58eaa6ddc2ec",
   "metadata": {},
   "source": [
    "# Model Training"
   ]
  },
  {
   "cell_type": "code",
   "execution_count": null,
   "id": "4ad5b401-a2ef-4445-a835-17bff32dde9c",
   "metadata": {},
   "outputs": [],
   "source": [
    "from transformers.keras_callbacks import KerasMetricCallback\n",
    "from keras.callbacks import ModelCheckpoint\n",
    "\n",
    "metric_callback = KerasMetricCallback(\n",
    "    metric_fn, eval_dataset=generation_dataset, predict_with_generate=True\n",
    ")\n",
    "save_dir = \"/kaggle/working/saved_models\"\n",
    "os.makedirs(save_dir, exist_ok=True)\n",
    "\n",
    "model_checkpoint_callback = ModelCheckpoint(\n",
    "    filepath=os.path.join(save_dir, 'model_epoch_{epoch:02d}.h5'),  # No monitor parameter\n",
    "    save_best_only=False,  # Save on every epoch\n",
    "    save_weights_only=False,  # Save entire model\n",
    "    save_freq='epoch',  # Save on every epoch\n",
    "    verbose=1\n",
    ")\n",
    "\n",
    "callbacks = [metric_callback]\n",
    "\n",
    "# For now we will use our test set as our validation_data\n",
    "model.fit(\n",
    "    train_dataset, validation_data=test_dataset, epochs=MAX_EPOCHS, callbacks=callbacks\n",
    ")"
   ]
  },
  {
   "cell_type": "markdown",
   "id": "30e903a4-6f91-4c75-b477-152d30add024",
   "metadata": {},
   "source": [
    "# Testing"
   ]
  },
  {
   "cell_type": "code",
   "execution_count": null,
   "id": "f7731f95-f095-4045-bd27-53352c953b45",
   "metadata": {},
   "outputs": [],
   "source": [
    "from transformers import pipeline\n",
    "\n",
    "summarizer = pipeline(\"summarization\", model=model, tokenizer=tokenizer, framework=\"tf\")\n",
    "print(\"Actual Data\",raw_datasets[\"test\"][0][\"document\"])\n",
    "print(\"\\n-----\\n\")\n",
    "summarizer(\n",
    "    raw_datasets[\"test\"][0][\"document\"],\n",
    "    min_length=MIN_TARGET_LENGTH,\n",
    "    max_length=MAX_TARGET_LENGTH,\n",
    ")"
   ]
  },
  {
   "cell_type": "code",
   "execution_count": null,
   "id": "ec78e56a-12be-4c0d-bb81-1a9d2514cdac",
   "metadata": {},
   "outputs": [],
   "source": [
    "# This is the same model used in Reputation Analysis from news. Facing compatibility issues in transformers and keras, will submit by next phase."
   ]
  }
 ],
 "metadata": {
  "kernelspec": {
   "display_name": "Python 3 (ipykernel)",
   "language": "python",
   "name": "python3"
  },
  "language_info": {
   "codemirror_mode": {
    "name": "ipython",
    "version": 3
   },
   "file_extension": ".py",
   "mimetype": "text/x-python",
   "name": "python",
   "nbconvert_exporter": "python",
   "pygments_lexer": "ipython3",
   "version": "3.11.5"
  }
 },
 "nbformat": 4,
 "nbformat_minor": 5
}
