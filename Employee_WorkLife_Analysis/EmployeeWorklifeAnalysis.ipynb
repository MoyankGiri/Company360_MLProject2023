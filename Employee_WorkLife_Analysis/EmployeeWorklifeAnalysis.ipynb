{
 "cells": [
  {
   "cell_type": "markdown",
   "id": "57a38ea0-13f6-4c3f-847c-220bc5cf1eb8",
   "metadata": {},
   "source": [
    "# Employee work life analysis"
   ]
  },
  {
   "cell_type": "markdown",
   "id": "563ba4fd-9c6b-4a0e-b623-6dbc6faf3fbe",
   "metadata": {},
   "source": [
    "## Introduction\r\n",
    "In the pursuit of understanding the intricacies of a company's culture and the experiences of its employees, the extraction and summarization of work-life anecdotes emerge as a valuable undertaking. In this phase of the project, we delve into the narratives of individuals who have been part of various organizations, gathering insights that encapsulate the essence of their professional journeys. To accomplish this, we employ a combination of web scraping, data extraction, and text summarization techniques, augmented by popular libraries and methodologies in the realm of Natural Language Processing (NLP). By employing these methods, we aim to provide concise and insightful summaries of employees' experiences, enabling a deeper comprehension of the working environments, challenges, and successes that define a company's culture."
   ]
  },
  {
   "cell_type": "markdown",
   "id": "98e38b4e-a881-4047-a8bc-3462a9bb69d7",
   "metadata": {},
   "source": [
    "## Web Scraping Quora blog posts"
   ]
  },
  {
   "cell_type": "markdown",
   "id": "00c127a5-2cfe-4f5c-b525-71adfdd52f37",
   "metadata": {},
   "source": [
    "### Input the company name"
   ]
  },
  {
   "cell_type": "code",
   "execution_count": 5,
   "id": "e0d1cf0f-f00a-4e54-8cf3-52d00f9ba218",
   "metadata": {},
   "outputs": [
    {
     "name": "stdin",
     "output_type": "stream",
     "text": [
      "Which company's employee experiences do you want to know about? adobe\n"
     ]
    }
   ],
   "source": [
    "company = input(\"Which company's employee experiences do you want to know about?\")"
   ]
  },
  {
   "cell_type": "code",
   "execution_count": null,
   "id": "5cb96a82-7f72-4104-a8cc-cf7f8a04d784",
   "metadata": {},
   "outputs": [],
   "source": []
  },
  {
   "cell_type": "code",
   "execution_count": 6,
   "id": "7aaa2b99-86c9-4120-8e6c-bb42b74c48cb",
   "metadata": {},
   "outputs": [
    {
     "name": "stdout",
     "output_type": "stream",
     "text": [
      "Found a matching div element:\n",
      "My 3-month internship at Adobe was one of the best in terms of type of work, company culture, managing team, level of challenge, and perks. Since experiences can vary from team to team and position to position, I'll focus more on the company wide factors that made my time there so great.Perks: Even though I was only there for 3-months, I received most of the perks that full-timers get. Tremendous product discounts (THESE ARE SUH-WEEEEET). $365 \"Wellness\" buck to spend on anything health related (Gym memberships, yoga class, REI membership). Caltrain GoPass. The perks I got at Adobe are much more aligned to my lifestyle when compared to the ones I get at my current company, which seems more geared towards an older crowd (free health exams, free 24/7 k-12 tutoring). Office: Both the SJ and SF offices are absolutely beautiful and a pleasure to work in. They're very well-designed spaces inside and out that bear no resemblance to gloomy labyrinths or cubicle prisons. They're also both a pleasant walk away from the CalTrain. Also, it's a breeze to find and book meetings rooms, which I didn't realize was a luxury at the time.People: My role at Adobe required me to interact with the entire spectrum of employees, from engineers and developers to the content managers, and I'm sure glad for it! Everybody was very friendly, dedicated, and happy. Importantly, I looked up to them as experts in their fields because of their actions, not their ramblings. Intranet/Work Environment: Another luxury I didn't know I had. Adobe's intranet is extremely usable and useful, which I guess isn't a surprised considering what the company does. It was very easy for me to find the information, projects, or people I was looking for. I think a result of the effective intranet is a healthy, productive collaborative atmosphere company-wide. Again the disclaimer: I was only there for 3 months but those 3 months definitely left me with very high regards for Adobe. I wouldn't be surprised if I find myself back there again.\n",
      "---\n",
      "Found a matching div element:\n",
      "Adobe Noida has better facilities then bangalore office. When i say better i mean much much better. Most of the teams in Bangalore apart from Dreamweaver team have totally bad work.\n",
      "---\n",
      "Found a matching div element:\n",
      "First Day: It's pretty good, at least it was for me and our team at EchoSign. You get some schwag, a set of relatively lightweight orientation sessions, a pretty well-done tour, 90% discount on Adobe products, and the IT department is pretty good.  Security is extremely important at Adobe so you'll spend more time learning about that than you might expect. San Jose San Francisco As long as someone knows you are coming, you'll have your pre-selected choice of Mac/PC, everything you need, waiting and mostly set-up.  The Mac choices are high-end and nice.  And the general offices both in San Jose and San Francisco are very clean (San Jose is the cleanest I've ever seen), very eco (windmills, Bloom energy boxes, 100% recycling) and relatively high-end, with few awkward spaces.  Benefits are benefits, but you'll find they are pretty high-end, especially if you have a family and/or do charitable giving. In San Jose, if you want to meet people informally, go to the engineers' dinner at 6pm-ish (you don't have to be an engineer).  Also, in San Jose, you get a tour of the gym, which is pretty nice (almost high-end gym quality).   Both offices have great main cafeterias -- San Jose has great light and space, and the San Francisco cafeteria is the center and highlight of the building, right in the middle with earthy high-design woods; both have great patios too.  The common areas of San Francisco in particular are quite delightful. If you come from an open-space environment, the San Francisco office will feel like a cool version of where you came from (it's in one of the best SOMA buildings, ex-Macromedia HQ), but San Jose still is mostly offices, though slowly converting to pretty cool / high-end design open spaces.  If you don't love the San Jose clean-beige aesthetic, you'll probably be moving into a cooler open space there at some point, so don't sweat it. Overall, IMHO, people work harder in San Jose (the corporate HQ) than San Francisco (the Creative HQ).  They certainly work somewhat later and longer.  The San Francisco office gets quiet at night. Adobe of course has its flaws and negatives as do all companies, but being nice is important to the culture there, and it's pervasive.  So you'll have a good first day.  ;) Bloom Energy Fuel Cells Powering Offices View from Adobe San Jose at night (EchoSign floor) courtesy Paul Picazo.\n",
      "---\n",
      "Found a matching div element:\n",
      "Work Culture Honestly, it really depends upon the team.  I used to work for a team that had workloads greater than most startups. The work quality was OK, neither pathetic nor too stellar. One can carry on doing the work for her whole life and still learn if one wanted.  Compare this to the people who joined with me in one other team and hardly ever worked. From what I heard of them, they worked closed to 1 hour a day, if at all. So as you can see, the workload and by extension the work culture varies across teams. However, I've never heard of a toxic work culture in any team, so that's definitely a plus. Plus most people get 3 very powerful machines - a huge iMac, a win8 and a new lenovo laptop. Don't know why but this left a very positive feel in my head about the company :) Sports/Co Curricular ActivitiesThat's totally up to you. You can gym or play volleyball/tennis/basketball any time if you can find the partners. Co-curricular activities - well there is the customary team outing after every release, plus you can demand team outings once or twice every quarter. So I guess, close to 10-15 outings/team activities an year.  There are TT tournaments once/twice an year, and things get pretty heated up. There would be foosball tournaments as well but the tables never survive more than a few matches at a time. If you wander into the foosball/tt room, chances are you will find people playing with a broken foosball table (the rules and the table suitably modified to balance the handicap). Multiplayer LAN games - I don't know if this is legal but a lot of this happens and it's rather exciting :) PerksThe best part is the free food. You can have above average lunch/dinner for free if you're a bachelor and find cooking a giant PITA.  There is a cab facility to drop you after work, but it's rather shitty.  Free coffee/tea/cold drinks You get to work with some intelligent people and if you're in the lucky teams, get to look at some legendary codebases and dissect them as if they were your own! Honestly, there isn't much in terms of perks but it's not like I ever missed any perk.   Overall, my general experience in this company was very positive (despite including the  negativity due to some very insane workloads at a couple of occasions), and I would really recommend this over most other companies I've worked at.\n",
      "---\n",
      "Found a matching div element:\n",
      "It's great. The orientation opens up the fact that many of the Adobe's high-end professional products are based completely out of India and that Adobe India generates roughly 1/3rd of Adobe's total revenue worldwide. Also you are amazed to know that most of these cool tools for creative professionals are all written in native C++. I really liked the concept of 'buddy'. Here you are assigned one person from your team as your buddy. The buddy comes and takes you for lunch, your first lunch at Adobe! There you open up patiently your anxiety about the team, what product it works on, how many people, etc etc. The buddy is your first gateway to your team and work. He answers all of your concerns. Later your admin takes you to your seat, your official desk at Adobe. You muse looking at the welcome message on your whiteboard. A brand new powerful desktop has been awaiting you. You check the config desperately and are excited to have a Intel Xeon (quad core) powered machine with 8 GB RAM. In no time you meet your manager, who turns out to be a cool guy. Then comes your personal laptop, another powerful beast with 8 GB memory and core i5 processor. And yes, you ought to love the awesome Adobe laptop sack. In my case, I was lucky to attend the weekly team meet on my first day. It went more about me than the work :P Overall it is a happening day apart from little documentation work.\n",
      "---\n"
     ]
    }
   ],
   "source": [
    "from selenium import webdriver\n",
    "from selenium.webdriver.common.by import By\n",
    "from selenium.webdriver.common.action_chains import ActionChains\n",
    "from selenium.webdriver.support.ui import WebDriverWait\n",
    "from selenium.webdriver.support import expected_conditions as EC\n",
    "from bs4 import BeautifulSoup\n",
    "\n",
    "url = f\"https://www.quora.com/search?q=what%20is%20it%20like%20working%20at%20{company}\"\n",
    "\n",
    "# Initialize a headless browser \n",
    "driver = webdriver.Chrome()  \n",
    "\n",
    "driver.get(url)\n",
    "\n",
    "wait = WebDriverWait(driver, 10)\n",
    "wait.until(EC.presence_of_element_located((By.CLASS_NAME, \"qu-userSelect--text\")))\n",
    "\n",
    "page_source = driver.page_source\n",
    "soup = BeautifulSoup(page_source, \"html.parser\")\n",
    "\n",
    "button_elements = driver.find_elements(By.XPATH, \"//div[@class='q-text qu-cursor--pointer QTextTruncated__StyledReadMoreLink-sc-1pev100-3 dXJUbS qt_read_more qu-color--blue_dark qu-fontFamily--sans qu-pl--tiny']\")\n",
    "\n",
    "company_blog_posts=[]\n",
    "for button_element in button_elements[:10]:\n",
    "    button_element.click()  \n",
    "    \n",
    "page_source = driver.page_source\n",
    "# Get the page source after dynamic content has loaded\n",
    "soup = BeautifulSoup(page_source, \"html.parser\")\n",
    "\n",
    "div_elements = soup.find_all('div', class_='q-box spacing_log_answer_content puppeteer_test_answer_content')\n",
    "for div_element in div_elements[:5]:\n",
    "    company_blog_posts.append(div_element.get_text())\n",
    "    \n",
    "for c in company_blog_posts:\n",
    "    print(\"Found a matching div element:\")\n",
    "    print(c)\n",
    "    print(\"---\")\n",
    "\n"
   ]
  },
  {
   "cell_type": "markdown",
   "id": "34be1989-1c6c-44e7-9c21-f30eeea0bc0c",
   "metadata": {},
   "source": [
    "Note that we have extracted raw blog posts and have stored it in company_blog_posts. "
   ]
  },
  {
   "cell_type": "markdown",
   "id": "dc77c0a0-b489-4fe6-ac24-3f0819120bd9",
   "metadata": {},
   "source": [
    "## Pre-Processing of extracted data (Removal of stop words and tokenisation)"
   ]
  },
  {
   "cell_type": "markdown",
   "id": "7e9feed6-f935-4288-8c20-0a2269697f44",
   "metadata": {},
   "source": [
    "In my code, I have incorporated the NLTK library's Stop words and Punkt tokenizer for effective text processing. \n",
    "<br/> **Stop words** removal plays a crucial role in enhancing the quality of textual analysis by filtering out common words that carry little semantic meaning, thus allowing a focus on more significant terms. \n",
    "<br/> **Punkt Sentence Tokenizer** helps to process the abbreviation words, upper case characters, collocations, special characters, whitespaces and many more, making it particularly effective summarisation.\n",
    "\n",
    "These preprocessing steps contribute to the efficiency and precision of natural language processing tasks, ensuring a more refined understanding of the underlying text."
   ]
  },
  {
   "cell_type": "code",
   "execution_count": 7,
   "id": "7f58dec7-868a-4b45-a55d-1c2e18242998",
   "metadata": {},
   "outputs": [
    {
     "name": "stdout",
     "output_type": "stream",
     "text": [
      "\n",
      "Preprocessed Individual Blogs\n",
      "1: (404, 'internship adobe one best terms type work company culture managing team level challenge perks since experiences vary team team position position focus company wide factors made time even though received perks get tremendous product discounts 365 wellness buck spend anything health related gym memberships yoga class rei membership caltrain gopass perks got adobe much aligned lifestyle compared ones get current company seems geared towards older crowd free health exams free tutoring office sj sf offices absolutely beautiful pleasure work spaces inside bear resemblance gloomy labyrinths cubicle prisons also pleasant walk away caltrain also breeze find book meetings rooms realize luxury role adobe required interact entire spectrum employees engineers developers content managers sure glad everybody friendly dedicated happy importantly looked experts fields actions ramblings environment another luxury know adobe intranet extremely usable useful guess surprised considering company easy find information projects people looking think result effective intranet healthy productive collaborative atmosphere disclaimer 3 months 3 months definitely left high regards adobe would surprised find back')\n",
      "\n",
      "2: (34, 'adobe noida better facilities bangalore office say better mean much much better teams bangalore apart dreamweaver team totally bad work')\n",
      "\n",
      "3: (487, 'first day pretty good least team echosign get schwag set relatively lightweight orientation sessions pretty tour 90 discount adobe products department pretty good security extremely important adobe spend time learning might expect san jose san francisco long someone knows coming choice everything need waiting mostly mac choices nice general offices san jose san francisco clean san jose cleanest ever seen eco windmills bloom energy boxes 100 recycling relatively awkward spaces benefits benefits find pretty especially family charitable giving san jose want meet people informally go engineers dinner engineer also san jose get tour gym pretty nice almost gym quality offices great main cafeterias san jose great light space san francisco cafeteria center highlight building right middle earthy woods great patios common areas san francisco particular quite delightful come environment san francisco office feel like cool version came one best soma buildings hq san jose still mostly offices though slowly converting pretty cool design open spaces love san jose aesthetic probably moving cooler open space point sweat overall imho people work harder san jose corporate hq san francisco creative hq certainly work somewhat later longer san francisco office gets quiet night adobe course flaws negatives companies nice important culture pervasive good first day bloom energy fuel cells powering offices view adobe san jose night echosign floor courtesy paul picazo')\n",
      "\n",
      "4: (478, 'work culture honestly really depends upon team used work team workloads greater startups work quality ok neither pathetic stellar one carry work whole life still learn one wanted compare people joined one team hardly ever worked heard worked closed 1 hour day see workload extension work culture varies across teams however never heard toxic work culture team definitely plus plus people get 3 powerful machines huge imac win8 new lenovo laptop know left positive feel head company curricular activitiesthat totally gym play time find partners activities well customary team outing every release plus demand team outings twice every quarter guess close activities year tt tournaments year things get pretty heated would foosball tournaments well tables never survive matches time wander room chances find people playing broken foosball table rules table suitably modified balance handicap multiplayer lan games know legal lot happens rather exciting perksthe best part free food average free bachelor find cooking giant pita cab facility drop work rather shitty free drinks get work intelligent people lucky teams get look legendary codebases dissect honestly much terms perks like ever missed perk overall general experience company positive despite including negativity due insane workloads couple occasions would really recommend companies worked')\n",
      "\n",
      "5: (289, 'great orientation opens fact many adobe professional products based completely india adobe india generates roughly adobe total revenue worldwide also amazed know cool tools creative professionals written native really liked concept assigned one person team buddy buddy comes takes lunch first lunch adobe open patiently anxiety team product works many people etc etc buddy first gateway team work answers concerns later admin takes seat official desk adobe muse looking welcome message whiteboard brand new powerful desktop awaiting check config desperately excited intel xeon quad core powered machine 8 gb ram time meet manager turns cool guy comes personal laptop another powerful beast 8 gb memory core i5 processor yes ought love awesome adobe laptop sack case lucky attend weekly team meet first day went work p overall happening day apart little documentation work')\n",
      "\n"
     ]
    },
    {
     "name": "stderr",
     "output_type": "stream",
     "text": [
      "[nltk_data] Downloading package stopwords to C:\\Users\\Aishika\n",
      "[nltk_data]     Nandi\\AppData\\Roaming\\nltk_data...\n",
      "[nltk_data]   Package stopwords is already up-to-date!\n",
      "[nltk_data] Downloading package punkt to C:\\Users\\Aishika\n",
      "[nltk_data]     Nandi\\AppData\\Roaming\\nltk_data...\n",
      "[nltk_data]   Package punkt is already up-to-date!\n"
     ]
    }
   ],
   "source": [
    "import nltk\n",
    "from nltk.corpus import stopwords\n",
    "from nltk.tokenize import word_tokenize\n",
    "\n",
    "nltk.download('stopwords')\n",
    "nltk.download('punkt')\n",
    "stop_words = set(stopwords.words('english'))\n",
    "\n",
    "def process_review(review):\n",
    "    words = word_tokenize(review)\n",
    "    length=len(words)\n",
    "    filtered_words = [word.lower() for word in words if word.isalnum() and word.lower() not in stop_words]\n",
    "    summary = ' '.join(filtered_words)\n",
    "    return length, summary\n",
    "\n",
    "cummulative_pp = ''\n",
    "cummulative_p = company_blog_posts[0]\n",
    "total_length= len(company_blog_posts[0])\n",
    "for i in range(len(company_blog_posts)):\n",
    "    length, summary = process_review(company_blog_posts[i])\n",
    "    cummulative_pp += summary + ' '\n",
    "    if i==0:\n",
    "        total_length=length\n",
    "\n",
    "individual_post_pp = [process_review(review) for review in company_blog_posts]\n",
    "\n",
    "# Display individual summaries\n",
    "print(\"\\nPreprocessed Individual Blogs\")\n",
    "for i, summary in enumerate(individual_post_pp, start=1):\n",
    "    print(f\"{i}: {summary}\\n\")\n",
    "\n"
   ]
  },
  {
   "cell_type": "markdown",
   "id": "0d60e770-78f5-4b25-abe2-b375cbe5fd41",
   "metadata": {},
   "source": [
    "## Summarization using my trained model"
   ]
  },
  {
   "cell_type": "code",
   "execution_count": 12,
   "id": "ec78e56a-12be-4c0d-bb81-1a9d2514cdac",
   "metadata": {},
   "outputs": [],
   "source": [
    "from tf_keras.models import model_from_json\n",
    "\n",
    "# Load encoder model architecture from JSON file\n",
    "with open('encoder_model.json', 'r') as json_file:\n",
    "    loaded_model_json = json_file.read()\n",
    "\n",
    "# Create model from the loaded JSON\n",
    "loaded_encoder_model = model_from_json(loaded_model_json)\n",
    "\n",
    "# Load weights into the new model\n",
    "loaded_encoder_model.load_weights(\"encoder_model_weights.h5\")\n",
    "\n",
    "\n",
    "with open('decoder_model.json', 'r') as json_file:\n",
    "    loaded_dmodel_json = json_file.read()\n",
    "loaded_decoder_model = model_from_json(loaded_dmodel_json)\n",
    "\n",
    "# Load weights into the new model\n",
    "loaded_decoder_model.load_weights(\"decoder_model_weights.h5\")\n"
   ]
  },
  {
   "cell_type": "code",
   "execution_count": 15,
   "id": "f41ffdc3-5052-4bc2-b588-42f0909a702a",
   "metadata": {},
   "outputs": [
    {
     "name": "stdout",
     "output_type": "stream",
     "text": [
      "1/1 [==============================] - 1s 966ms/step\n",
      "1/1 [==============================] - 0s 471ms/step\n",
      "1/1 [==============================] - 0s 47ms/step\n",
      "1/1 [==============================] - 0s 31ms/step\n",
      "1/1 [==============================] - 0s 31ms/step\n",
      "1/1 [==============================] - 0s 31ms/step\n",
      "1/1 [==============================] - 0s 16ms/step\n",
      "1/1 [==============================] - 0s 26ms/step\n",
      "1/1 [==============================] - 0s 31ms/step\n",
      "1/1 [==============================] - 0s 32ms/step\n",
      "1/1 [==============================] - 0s 31ms/step\n",
      "1/1 [==============================] - 0s 17ms/step\n",
      "1/1 [==============================] - 0s 31ms/step\n",
      "1/1 [==============================] - 0s 18ms/step\n",
      "1/1 [==============================] - 0s 32ms/step\n",
      "1/1 [==============================] - 0s 31ms/step\n",
      "1/1 [==============================] - 0s 31ms/step\n",
      "1/1 [==============================] - 0s 18ms/step\n",
      "1/1 [==============================] - 0s 20ms/step\n",
      "1/1 [==============================] - 0s 16ms/step\n",
      "1/1 [==============================] - 0s 36ms/step\n",
      "1/1 [==============================] - 0s 43ms/step\n",
      "1/1 [==============================] - 0s 44ms/step\n",
      "1/1 [==============================] - 0s 42ms/step\n",
      "1/1 [==============================] - 0s 32ms/step\n",
      "1/1 [==============================] - 0s 31ms/step\n",
      "1/1 [==============================] - 0s 25ms/step\n",
      "1/1 [==============================] - 0s 24ms/step\n",
      "1/1 [==============================] - 0s 22ms/step\n",
      "1/1 [==============================] - 0s 34ms/step\n",
      "Loaded Model Predicted summary:  calda kronung potato bloddy hh hh hh newest doesnt senior fed toddy fulfilled ki ki value gingersnap hubby hubby sacrifice puff properties notch mastiffs bundle buiscuits microwaved swisshot batter\n"
     ]
    }
   ],
   "source": [
    "import pickle\n",
    "from tf_keras.preprocessing.sequence import pad_sequences\n",
    "import numpy as np\n",
    "\n",
    "def decode_sequence_loaded_model(input_seq, loaded_emodel, loaded_dmodel):\n",
    "    # Encode the input as state vectors using the loaded model.\n",
    "    e_out, e_h, e_c = loaded_emodel.predict(input_seq)\n",
    "\n",
    "    # Generate empty target sequence of length 1.\n",
    "    target_seq = np.zeros((1, 1))\n",
    "    \n",
    "    # Populate the first word of the target sequence with the start word.\n",
    "    target_seq[0, 0] = target_word_index['sostok']\n",
    "\n",
    "    stop_condition = False\n",
    "    decoded_sentence = ''\n",
    "    while not stop_condition:\n",
    "        # Predict using the loaded model.\n",
    "        output_tokens, h, c = loaded_dmodel.predict([target_seq] + [e_out, e_h, e_c])\n",
    "\n",
    "        # Sample a token\n",
    "        sampled_token_index = np.argmax(output_tokens[0, -1, :])\n",
    "        sampled_token = reverse_target_word_index[sampled_token_index]\n",
    "\n",
    "        if sampled_token != 'eostok':\n",
    "            decoded_sentence += ' ' + sampled_token\n",
    "\n",
    "        # Exit condition: either hit max length or find stop word.\n",
    "        if sampled_token == 'eostok' or len(decoded_sentence.split()) >= (30 - 1):\n",
    "            stop_condition = True\n",
    "\n",
    "        # Update the target sequence (of length 1).\n",
    "        target_seq = np.zeros((1, 1))\n",
    "        target_seq[0, 0] = sampled_token_index\n",
    "\n",
    "        # Update internal states\n",
    "        e_h, e_c = h, c\n",
    "\n",
    "    return decoded_sentence\n",
    "\n",
    "\n",
    "input_text = cummulative_p\n",
    "\n",
    "# Loading the tokenizer\n",
    "with open('x_tokenizer.pkl', 'rb') as f:\n",
    "    x_tokenizer = pickle.load(f)\n",
    "with open('y_tokenizer.pkl', 'rb') as f:\n",
    "    y_tokenizer = pickle.load(f)\n",
    "    \n",
    "reverse_target_word_index = y_tokenizer.index_word \n",
    "reverse_source_word_index = x_tokenizer.index_word \n",
    "target_word_index = y_tokenizer.word_index\n",
    "\n",
    "input_sequence = x_tokenizer.texts_to_sequences([input_text])\n",
    "input_sequence = pad_sequences(input_sequence, maxlen=80, padding='post')\n",
    "loaded_model_predictions = decode_sequence_loaded_model(input_sequence.reshape(1, 80), loaded_encoder_model, loaded_decoder_model)\n",
    "print(\"Loaded Model Predicted summary:\", loaded_model_predictions)"
   ]
  },
  {
   "cell_type": "markdown",
   "id": "1c38ee1e-c2a5-4c83-8ca3-280dd7f8cbbb",
   "metadata": {},
   "source": [
    "## Summarization using pre-trained model"
   ]
  },
  {
   "cell_type": "code",
   "execution_count": 18,
   "id": "6237cf1f-b425-426f-8127-22c9857d5b1f",
   "metadata": {
    "scrolled": true
   },
   "outputs": [],
   "source": [
    "from transformers import T5ForConditionalGeneration, T5Tokenizer\n",
    "!pip install -q transformers[sentencepiece]\n",
    "!pip install -q sentencepiece\n",
    "\n",
    "model_directory = './Pre-Trained'\n",
    "\n",
    "# Load the T5 model\n",
    "loaded_model = T5ForConditionalGeneration.from_pretrained(model_directory)\n",
    "loaded_tokenizer = T5Tokenizer.from_pretrained(model_directory)"
   ]
  },
  {
   "cell_type": "code",
   "execution_count": 17,
   "id": "536f6ac5-d661-4395-88bc-8cea33033720",
   "metadata": {},
   "outputs": [
    {
     "name": "stdout",
     "output_type": "stream",
     "text": [
      "\n",
      "Generated Summary:\n",
      "perks: I received most of the perks that full-timers get. Adobe was one of the best in terms of type of work, company culture, managing team, perks, and perks. People: Everyone was very friendly, dedicated, and happy. Intranet/Work Environment: Another luxury I didn't realize I had at the time.\n"
     ]
    }
   ],
   "source": [
    "# Take input from the user\n",
    "user_input = cummulative_p\n",
    "\n",
    "# Tokenize and encode the input text using the loaded tokenizer\n",
    "input_ids = loaded_tokenizer.encode(user_input, return_tensors='pt', max_length=total_length, truncation=True)\n",
    "\n",
    "# Generate the summary using the loaded T5 model\n",
    "summary_ids = loaded_model.generate(input_ids, max_length=150, num_beams=2, repetition_penalty=2.5, length_penalty=1.0, early_stopping=True)\n",
    "\n",
    "# Decode the generated summary IDs to text\n",
    "generated_summary = loaded_tokenizer.decode(summary_ids[0], skip_special_tokens=True, clean_up_tokenization_spaces=True)\n",
    "\n",
    "# Print the generated summary\n",
    "print(\"\\nGenerated Summary:\")\n",
    "print(generated_summary)\n"
   ]
  }
 ],
 "metadata": {
  "kernelspec": {
   "display_name": "Python 3 (ipykernel)",
   "language": "python",
   "name": "python3"
  },
  "language_info": {
   "codemirror_mode": {
    "name": "ipython",
    "version": 3
   },
   "file_extension": ".py",
   "mimetype": "text/x-python",
   "name": "python",
   "nbconvert_exporter": "python",
   "pygments_lexer": "ipython3",
   "version": "3.11.5"
  }
 },
 "nbformat": 4,
 "nbformat_minor": 5
}
